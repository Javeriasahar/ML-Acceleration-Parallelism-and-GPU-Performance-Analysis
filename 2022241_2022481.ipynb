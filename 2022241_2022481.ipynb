{
  "cells": [
    {
      "cell_type": "markdown",
      "id": "4499e399",
      "metadata": {
        "id": "4499e399"
      },
      "source": [
        "# Compiled Notebook for Parallel and Distributed Computing Project"
      ]
    },
    {
      "cell_type": "markdown",
      "id": "11af04ac",
      "metadata": {
        "id": "11af04ac"
      },
      "source": [
        "## Libraries"
      ]
    },
    {
      "cell_type": "code",
      "execution_count": 1,
      "id": "bf070b90",
      "metadata": {
        "colab": {
          "base_uri": "https://localhost:8080/"
        },
        "id": "bf070b90",
        "outputId": "4643dd8f-b5ac-407b-86ee-3649627aea4e"
      },
      "outputs": [
        {
          "name": "stdout",
          "output_type": "stream",
          "text": [
            "Collecting catboost\n",
            "  Downloading catboost-1.2.8-cp311-cp311-manylinux2014_x86_64.whl.metadata (1.2 kB)\n",
            "Requirement already satisfied: graphviz in /usr/local/lib/python3.11/dist-packages (from catboost) (0.20.3)\n",
            "Requirement already satisfied: matplotlib in /usr/local/lib/python3.11/dist-packages (from catboost) (3.10.0)\n",
            "Requirement already satisfied: numpy<3.0,>=1.16.0 in /usr/local/lib/python3.11/dist-packages (from catboost) (2.0.2)\n",
            "Requirement already satisfied: pandas>=0.24 in /usr/local/lib/python3.11/dist-packages (from catboost) (2.2.2)\n",
            "Requirement already satisfied: scipy in /usr/local/lib/python3.11/dist-packages (from catboost) (1.15.2)\n",
            "Requirement already satisfied: plotly in /usr/local/lib/python3.11/dist-packages (from catboost) (5.24.1)\n",
            "Requirement already satisfied: six in /usr/local/lib/python3.11/dist-packages (from catboost) (1.17.0)\n",
            "Requirement already satisfied: python-dateutil>=2.8.2 in /usr/local/lib/python3.11/dist-packages (from pandas>=0.24->catboost) (2.9.0.post0)\n",
            "Requirement already satisfied: pytz>=2020.1 in /usr/local/lib/python3.11/dist-packages (from pandas>=0.24->catboost) (2025.2)\n",
            "Requirement already satisfied: tzdata>=2022.7 in /usr/local/lib/python3.11/dist-packages (from pandas>=0.24->catboost) (2025.2)\n",
            "Requirement already satisfied: contourpy>=1.0.1 in /usr/local/lib/python3.11/dist-packages (from matplotlib->catboost) (1.3.2)\n",
            "Requirement already satisfied: cycler>=0.10 in /usr/local/lib/python3.11/dist-packages (from matplotlib->catboost) (0.12.1)\n",
            "Requirement already satisfied: fonttools>=4.22.0 in /usr/local/lib/python3.11/dist-packages (from matplotlib->catboost) (4.57.0)\n",
            "Requirement already satisfied: kiwisolver>=1.3.1 in /usr/local/lib/python3.11/dist-packages (from matplotlib->catboost) (1.4.8)\n",
            "Requirement already satisfied: packaging>=20.0 in /usr/local/lib/python3.11/dist-packages (from matplotlib->catboost) (24.2)\n",
            "Requirement already satisfied: pillow>=8 in /usr/local/lib/python3.11/dist-packages (from matplotlib->catboost) (11.2.1)\n",
            "Requirement already satisfied: pyparsing>=2.3.1 in /usr/local/lib/python3.11/dist-packages (from matplotlib->catboost) (3.2.3)\n",
            "Requirement already satisfied: tenacity>=6.2.0 in /usr/local/lib/python3.11/dist-packages (from plotly->catboost) (9.1.2)\n",
            "Downloading catboost-1.2.8-cp311-cp311-manylinux2014_x86_64.whl (99.2 MB)\n",
            "\u001b[2K   \u001b[90m━━━━━━━━━━━━━━━━━━━━━━━━━━━━━━━━━━━━━━━━\u001b[0m \u001b[32m99.2/99.2 MB\u001b[0m \u001b[31m6.2 MB/s\u001b[0m eta \u001b[36m0:00:00\u001b[0m\n",
            "\u001b[?25hInstalling collected packages: catboost\n",
            "Successfully installed catboost-1.2.8\n"
          ]
        }
      ],
      "source": [
        "!pip install catboost"
      ]
    },
    {
      "cell_type": "code",
      "execution_count": 1,
      "id": "kGDgRN8OLch3",
      "metadata": {
        "id": "kGDgRN8OLch3"
      },
      "outputs": [],
      "source": [
        "#pip install dask[distributed] torch"
      ]
    },
    {
      "cell_type": "code",
      "execution_count": 2,
      "id": "e47b9615",
      "metadata": {
        "id": "e47b9615"
      },
      "outputs": [],
      "source": [
        "import pandas as pd\n",
        "import numpy as np\n",
        "import time\n",
        "import os\n",
        "import matplotlib.pyplot as plt\n",
        "import seaborn as sns\n",
        "from sklearn.ensemble import RandomForestClassifier, VotingClassifier\n",
        "from sklearn.linear_model import LogisticRegression\n",
        "from sklearn.preprocessing import StandardScaler\n",
        "from sklearn.metrics import accuracy_score, classification_report, confusion_matrix\n",
        "from sklearn.model_selection import train_test_split, GridSearchCV\n",
        "from xgboost import XGBClassifier\n",
        "from catboost import CatBoostClassifier\n",
        "from imblearn.over_sampling import SMOTE\n",
        "import tensorflow as tf\n",
        "from tensorflow.keras.models import Sequential\n",
        "from tensorflow.keras.layers import Dense\n",
        "from tensorflow.keras.optimizers import Adam\n",
        "import torch\n",
        "import torch.nn as nn\n",
        "import torch.optim as optim\n",
        "from multiprocessing import Pool\n",
        "from concurrent.futures import ThreadPoolExecutor\n",
        "# from mpi4py import MPI\n",
        "# from pyspark.sql import SparkSession\n",
        "from dask import delayed, compute"
      ]
    },
    {
      "cell_type": "markdown",
      "id": "b50266bc",
      "metadata": {
        "id": "b50266bc"
      },
      "source": [
        "## Loading the Dataset"
      ]
    },
    {
      "cell_type": "code",
      "execution_count": 3,
      "id": "08c6d1eb",
      "metadata": {
        "colab": {
          "base_uri": "https://localhost:8080/",
          "height": 424
        },
        "id": "08c6d1eb",
        "outputId": "5dd87878-f6c2-459c-cb03-48a408a7dd7b"
      },
      "outputs": [
        {
          "data": {
            "application/vnd.google.colaboratory.intrinsic+json": {
              "summary": "{\n  \"name\": \"df\",\n  \"rows\": 41000,\n  \"fields\": [\n    {\n      \"column\": \"feature_1\",\n      \"properties\": {\n        \"dtype\": \"number\",\n        \"std\": 5.000959151530486,\n        \"min\": 7.67,\n        \"max\": 52.4,\n        \"num_unique_values\": 2792,\n        \"samples\": [\n          15.01,\n          25.81,\n          14.95\n        ],\n        \"semantic_type\": \"\",\n        \"description\": \"\"\n      }\n    },\n    {\n      \"column\": \"feature_2\",\n      \"properties\": {\n        \"dtype\": \"number\",\n        \"std\": 28.96385851327244,\n        \"min\": 0.0,\n        \"max\": 99.0,\n        \"num_unique_values\": 100,\n        \"samples\": [\n          61.0,\n          87.0,\n          94.0\n        ],\n        \"semantic_type\": \"\",\n        \"description\": \"\"\n      }\n    },\n    {\n      \"column\": \"feature_3\",\n      \"properties\": {\n        \"dtype\": \"category\",\n        \"num_unique_values\": 3,\n        \"samples\": [\n          \"B\",\n          \"C\",\n          \"A\"\n        ],\n        \"semantic_type\": \"\",\n        \"description\": \"\"\n      }\n    },\n    {\n      \"column\": \"feature_4\",\n      \"properties\": {\n        \"dtype\": \"number\",\n        \"std\": 1012.0516992554158,\n        \"min\": -155.62,\n        \"max\": 17643.399999999998,\n        \"num_unique_values\": 32102,\n        \"samples\": [\n          862.87,\n          739.97,\n          769.91\n        ],\n        \"semantic_type\": \"\",\n        \"description\": \"\"\n      }\n    },\n    {\n      \"column\": \"feature_5\",\n      \"properties\": {\n        \"dtype\": \"category\",\n        \"num_unique_values\": 2,\n        \"samples\": [\n          \"Yes\",\n          \"No\"\n        ],\n        \"semantic_type\": \"\",\n        \"description\": \"\"\n      }\n    },\n    {\n      \"column\": \"feature_6\",\n      \"properties\": {\n        \"dtype\": \"number\",\n        \"std\": 2,\n        \"min\": 1,\n        \"max\": 9,\n        \"num_unique_values\": 9,\n        \"samples\": [\n          9,\n          4\n        ],\n        \"semantic_type\": \"\",\n        \"description\": \"\"\n      }\n    },\n    {\n      \"column\": \"feature_7\",\n      \"properties\": {\n        \"dtype\": \"number\",\n        \"std\": 47.56243578912315,\n        \"min\": 0.0,\n        \"max\": 1660.8,\n        \"num_unique_values\": 7354,\n        \"samples\": [\n          17.84,\n          21.9\n        ],\n        \"semantic_type\": \"\",\n        \"description\": \"\"\n      }\n    },\n    {\n      \"column\": \"target\",\n      \"properties\": {\n        \"dtype\": \"number\",\n        \"std\": 0,\n        \"min\": 0,\n        \"max\": 1,\n        \"num_unique_values\": 2,\n        \"samples\": [\n          1,\n          0\n        ],\n        \"semantic_type\": \"\",\n        \"description\": \"\"\n      }\n    }\n  ]\n}",
              "type": "dataframe",
              "variable_name": "df"
            },
            "text/html": [
              "\n",
              "  <div id=\"df-66a296b9-b221-4eda-b4de-7a3edebe7aca\" class=\"colab-df-container\">\n",
              "    <div>\n",
              "<style scoped>\n",
              "    .dataframe tbody tr th:only-of-type {\n",
              "        vertical-align: middle;\n",
              "    }\n",
              "\n",
              "    .dataframe tbody tr th {\n",
              "        vertical-align: top;\n",
              "    }\n",
              "\n",
              "    .dataframe thead th {\n",
              "        text-align: right;\n",
              "    }\n",
              "</style>\n",
              "<table border=\"1\" class=\"dataframe\">\n",
              "  <thead>\n",
              "    <tr style=\"text-align: right;\">\n",
              "      <th></th>\n",
              "      <th>feature_1</th>\n",
              "      <th>feature_2</th>\n",
              "      <th>feature_3</th>\n",
              "      <th>feature_4</th>\n",
              "      <th>feature_5</th>\n",
              "      <th>feature_6</th>\n",
              "      <th>feature_7</th>\n",
              "      <th>target</th>\n",
              "    </tr>\n",
              "  </thead>\n",
              "  <tbody>\n",
              "    <tr>\n",
              "      <th>0</th>\n",
              "      <td>27.75</td>\n",
              "      <td>55.0</td>\n",
              "      <td>B</td>\n",
              "      <td>875.98</td>\n",
              "      <td>No</td>\n",
              "      <td>8</td>\n",
              "      <td>44.16</td>\n",
              "      <td>0</td>\n",
              "    </tr>\n",
              "    <tr>\n",
              "      <th>1</th>\n",
              "      <td>31.33</td>\n",
              "      <td>39.0</td>\n",
              "      <td>C</td>\n",
              "      <td>839.91</td>\n",
              "      <td>No</td>\n",
              "      <td>4</td>\n",
              "      <td>13.93</td>\n",
              "      <td>1</td>\n",
              "    </tr>\n",
              "    <tr>\n",
              "      <th>2</th>\n",
              "      <td>23.87</td>\n",
              "      <td>10.0</td>\n",
              "      <td>A</td>\n",
              "      <td>1364.70</td>\n",
              "      <td>Yes</td>\n",
              "      <td>4</td>\n",
              "      <td>15.16</td>\n",
              "      <td>0</td>\n",
              "    </tr>\n",
              "    <tr>\n",
              "      <th>3</th>\n",
              "      <td>35.64</td>\n",
              "      <td>34.0</td>\n",
              "      <td>C</td>\n",
              "      <td>1462.07</td>\n",
              "      <td>No</td>\n",
              "      <td>4</td>\n",
              "      <td>15.71</td>\n",
              "      <td>1</td>\n",
              "    </tr>\n",
              "    <tr>\n",
              "      <th>4</th>\n",
              "      <td>NaN</td>\n",
              "      <td>NaN</td>\n",
              "      <td>C</td>\n",
              "      <td>710.61</td>\n",
              "      <td>No</td>\n",
              "      <td>8</td>\n",
              "      <td>13.77</td>\n",
              "      <td>1</td>\n",
              "    </tr>\n",
              "    <tr>\n",
              "      <th>...</th>\n",
              "      <td>...</td>\n",
              "      <td>...</td>\n",
              "      <td>...</td>\n",
              "      <td>...</td>\n",
              "      <td>...</td>\n",
              "      <td>...</td>\n",
              "      <td>...</td>\n",
              "      <td>...</td>\n",
              "    </tr>\n",
              "    <tr>\n",
              "      <th>40995</th>\n",
              "      <td>31.37</td>\n",
              "      <td>52.0</td>\n",
              "      <td>A</td>\n",
              "      <td>1118.04</td>\n",
              "      <td>Yes</td>\n",
              "      <td>9</td>\n",
              "      <td>22.59</td>\n",
              "      <td>1</td>\n",
              "    </tr>\n",
              "    <tr>\n",
              "      <th>40996</th>\n",
              "      <td>33.18</td>\n",
              "      <td>98.0</td>\n",
              "      <td>A</td>\n",
              "      <td>1001.55</td>\n",
              "      <td>No</td>\n",
              "      <td>3</td>\n",
              "      <td>41.25</td>\n",
              "      <td>0</td>\n",
              "    </tr>\n",
              "    <tr>\n",
              "      <th>40997</th>\n",
              "      <td>24.77</td>\n",
              "      <td>91.0</td>\n",
              "      <td>B</td>\n",
              "      <td>1030.09</td>\n",
              "      <td>Yes</td>\n",
              "      <td>7</td>\n",
              "      <td>NaN</td>\n",
              "      <td>0</td>\n",
              "    </tr>\n",
              "    <tr>\n",
              "      <th>40998</th>\n",
              "      <td>NaN</td>\n",
              "      <td>90.0</td>\n",
              "      <td>C</td>\n",
              "      <td>1335.11</td>\n",
              "      <td>Yes</td>\n",
              "      <td>8</td>\n",
              "      <td>0.80</td>\n",
              "      <td>0</td>\n",
              "    </tr>\n",
              "    <tr>\n",
              "      <th>40999</th>\n",
              "      <td>23.16</td>\n",
              "      <td>48.0</td>\n",
              "      <td>B</td>\n",
              "      <td>916.39</td>\n",
              "      <td>Yes</td>\n",
              "      <td>2</td>\n",
              "      <td>4.65</td>\n",
              "      <td>1</td>\n",
              "    </tr>\n",
              "  </tbody>\n",
              "</table>\n",
              "<p>41000 rows × 8 columns</p>\n",
              "</div>\n",
              "    <div class=\"colab-df-buttons\">\n",
              "\n",
              "  <div class=\"colab-df-container\">\n",
              "    <button class=\"colab-df-convert\" onclick=\"convertToInteractive('df-66a296b9-b221-4eda-b4de-7a3edebe7aca')\"\n",
              "            title=\"Convert this dataframe to an interactive table.\"\n",
              "            style=\"display:none;\">\n",
              "\n",
              "  <svg xmlns=\"http://www.w3.org/2000/svg\" height=\"24px\" viewBox=\"0 -960 960 960\">\n",
              "    <path d=\"M120-120v-720h720v720H120Zm60-500h600v-160H180v160Zm220 220h160v-160H400v160Zm0 220h160v-160H400v160ZM180-400h160v-160H180v160Zm440 0h160v-160H620v160ZM180-180h160v-160H180v160Zm440 0h160v-160H620v160Z\"/>\n",
              "  </svg>\n",
              "    </button>\n",
              "\n",
              "  <style>\n",
              "    .colab-df-container {\n",
              "      display:flex;\n",
              "      gap: 12px;\n",
              "    }\n",
              "\n",
              "    .colab-df-convert {\n",
              "      background-color: #E8F0FE;\n",
              "      border: none;\n",
              "      border-radius: 50%;\n",
              "      cursor: pointer;\n",
              "      display: none;\n",
              "      fill: #1967D2;\n",
              "      height: 32px;\n",
              "      padding: 0 0 0 0;\n",
              "      width: 32px;\n",
              "    }\n",
              "\n",
              "    .colab-df-convert:hover {\n",
              "      background-color: #E2EBFA;\n",
              "      box-shadow: 0px 1px 2px rgba(60, 64, 67, 0.3), 0px 1px 3px 1px rgba(60, 64, 67, 0.15);\n",
              "      fill: #174EA6;\n",
              "    }\n",
              "\n",
              "    .colab-df-buttons div {\n",
              "      margin-bottom: 4px;\n",
              "    }\n",
              "\n",
              "    [theme=dark] .colab-df-convert {\n",
              "      background-color: #3B4455;\n",
              "      fill: #D2E3FC;\n",
              "    }\n",
              "\n",
              "    [theme=dark] .colab-df-convert:hover {\n",
              "      background-color: #434B5C;\n",
              "      box-shadow: 0px 1px 3px 1px rgba(0, 0, 0, 0.15);\n",
              "      filter: drop-shadow(0px 1px 2px rgba(0, 0, 0, 0.3));\n",
              "      fill: #FFFFFF;\n",
              "    }\n",
              "  </style>\n",
              "\n",
              "    <script>\n",
              "      const buttonEl =\n",
              "        document.querySelector('#df-66a296b9-b221-4eda-b4de-7a3edebe7aca button.colab-df-convert');\n",
              "      buttonEl.style.display =\n",
              "        google.colab.kernel.accessAllowed ? 'block' : 'none';\n",
              "\n",
              "      async function convertToInteractive(key) {\n",
              "        const element = document.querySelector('#df-66a296b9-b221-4eda-b4de-7a3edebe7aca');\n",
              "        const dataTable =\n",
              "          await google.colab.kernel.invokeFunction('convertToInteractive',\n",
              "                                                    [key], {});\n",
              "        if (!dataTable) return;\n",
              "\n",
              "        const docLinkHtml = 'Like what you see? Visit the ' +\n",
              "          '<a target=\"_blank\" href=https://colab.research.google.com/notebooks/data_table.ipynb>data table notebook</a>'\n",
              "          + ' to learn more about interactive tables.';\n",
              "        element.innerHTML = '';\n",
              "        dataTable['output_type'] = 'display_data';\n",
              "        await google.colab.output.renderOutput(dataTable, element);\n",
              "        const docLink = document.createElement('div');\n",
              "        docLink.innerHTML = docLinkHtml;\n",
              "        element.appendChild(docLink);\n",
              "      }\n",
              "    </script>\n",
              "  </div>\n",
              "\n",
              "\n",
              "    <div id=\"df-396bee9d-068f-4937-8be8-1518441beb34\">\n",
              "      <button class=\"colab-df-quickchart\" onclick=\"quickchart('df-396bee9d-068f-4937-8be8-1518441beb34')\"\n",
              "                title=\"Suggest charts\"\n",
              "                style=\"display:none;\">\n",
              "\n",
              "<svg xmlns=\"http://www.w3.org/2000/svg\" height=\"24px\"viewBox=\"0 0 24 24\"\n",
              "     width=\"24px\">\n",
              "    <g>\n",
              "        <path d=\"M19 3H5c-1.1 0-2 .9-2 2v14c0 1.1.9 2 2 2h14c1.1 0 2-.9 2-2V5c0-1.1-.9-2-2-2zM9 17H7v-7h2v7zm4 0h-2V7h2v10zm4 0h-2v-4h2v4z\"/>\n",
              "    </g>\n",
              "</svg>\n",
              "      </button>\n",
              "\n",
              "<style>\n",
              "  .colab-df-quickchart {\n",
              "      --bg-color: #E8F0FE;\n",
              "      --fill-color: #1967D2;\n",
              "      --hover-bg-color: #E2EBFA;\n",
              "      --hover-fill-color: #174EA6;\n",
              "      --disabled-fill-color: #AAA;\n",
              "      --disabled-bg-color: #DDD;\n",
              "  }\n",
              "\n",
              "  [theme=dark] .colab-df-quickchart {\n",
              "      --bg-color: #3B4455;\n",
              "      --fill-color: #D2E3FC;\n",
              "      --hover-bg-color: #434B5C;\n",
              "      --hover-fill-color: #FFFFFF;\n",
              "      --disabled-bg-color: #3B4455;\n",
              "      --disabled-fill-color: #666;\n",
              "  }\n",
              "\n",
              "  .colab-df-quickchart {\n",
              "    background-color: var(--bg-color);\n",
              "    border: none;\n",
              "    border-radius: 50%;\n",
              "    cursor: pointer;\n",
              "    display: none;\n",
              "    fill: var(--fill-color);\n",
              "    height: 32px;\n",
              "    padding: 0;\n",
              "    width: 32px;\n",
              "  }\n",
              "\n",
              "  .colab-df-quickchart:hover {\n",
              "    background-color: var(--hover-bg-color);\n",
              "    box-shadow: 0 1px 2px rgba(60, 64, 67, 0.3), 0 1px 3px 1px rgba(60, 64, 67, 0.15);\n",
              "    fill: var(--button-hover-fill-color);\n",
              "  }\n",
              "\n",
              "  .colab-df-quickchart-complete:disabled,\n",
              "  .colab-df-quickchart-complete:disabled:hover {\n",
              "    background-color: var(--disabled-bg-color);\n",
              "    fill: var(--disabled-fill-color);\n",
              "    box-shadow: none;\n",
              "  }\n",
              "\n",
              "  .colab-df-spinner {\n",
              "    border: 2px solid var(--fill-color);\n",
              "    border-color: transparent;\n",
              "    border-bottom-color: var(--fill-color);\n",
              "    animation:\n",
              "      spin 1s steps(1) infinite;\n",
              "  }\n",
              "\n",
              "  @keyframes spin {\n",
              "    0% {\n",
              "      border-color: transparent;\n",
              "      border-bottom-color: var(--fill-color);\n",
              "      border-left-color: var(--fill-color);\n",
              "    }\n",
              "    20% {\n",
              "      border-color: transparent;\n",
              "      border-left-color: var(--fill-color);\n",
              "      border-top-color: var(--fill-color);\n",
              "    }\n",
              "    30% {\n",
              "      border-color: transparent;\n",
              "      border-left-color: var(--fill-color);\n",
              "      border-top-color: var(--fill-color);\n",
              "      border-right-color: var(--fill-color);\n",
              "    }\n",
              "    40% {\n",
              "      border-color: transparent;\n",
              "      border-right-color: var(--fill-color);\n",
              "      border-top-color: var(--fill-color);\n",
              "    }\n",
              "    60% {\n",
              "      border-color: transparent;\n",
              "      border-right-color: var(--fill-color);\n",
              "    }\n",
              "    80% {\n",
              "      border-color: transparent;\n",
              "      border-right-color: var(--fill-color);\n",
              "      border-bottom-color: var(--fill-color);\n",
              "    }\n",
              "    90% {\n",
              "      border-color: transparent;\n",
              "      border-bottom-color: var(--fill-color);\n",
              "    }\n",
              "  }\n",
              "</style>\n",
              "\n",
              "      <script>\n",
              "        async function quickchart(key) {\n",
              "          const quickchartButtonEl =\n",
              "            document.querySelector('#' + key + ' button');\n",
              "          quickchartButtonEl.disabled = true;  // To prevent multiple clicks.\n",
              "          quickchartButtonEl.classList.add('colab-df-spinner');\n",
              "          try {\n",
              "            const charts = await google.colab.kernel.invokeFunction(\n",
              "                'suggestCharts', [key], {});\n",
              "          } catch (error) {\n",
              "            console.error('Error during call to suggestCharts:', error);\n",
              "          }\n",
              "          quickchartButtonEl.classList.remove('colab-df-spinner');\n",
              "          quickchartButtonEl.classList.add('colab-df-quickchart-complete');\n",
              "        }\n",
              "        (() => {\n",
              "          let quickchartButtonEl =\n",
              "            document.querySelector('#df-396bee9d-068f-4937-8be8-1518441beb34 button');\n",
              "          quickchartButtonEl.style.display =\n",
              "            google.colab.kernel.accessAllowed ? 'block' : 'none';\n",
              "        })();\n",
              "      </script>\n",
              "    </div>\n",
              "\n",
              "  <div id=\"id_31f249a3-1283-43c8-ba7e-cc01255d1b50\">\n",
              "    <style>\n",
              "      .colab-df-generate {\n",
              "        background-color: #E8F0FE;\n",
              "        border: none;\n",
              "        border-radius: 50%;\n",
              "        cursor: pointer;\n",
              "        display: none;\n",
              "        fill: #1967D2;\n",
              "        height: 32px;\n",
              "        padding: 0 0 0 0;\n",
              "        width: 32px;\n",
              "      }\n",
              "\n",
              "      .colab-df-generate:hover {\n",
              "        background-color: #E2EBFA;\n",
              "        box-shadow: 0px 1px 2px rgba(60, 64, 67, 0.3), 0px 1px 3px 1px rgba(60, 64, 67, 0.15);\n",
              "        fill: #174EA6;\n",
              "      }\n",
              "\n",
              "      [theme=dark] .colab-df-generate {\n",
              "        background-color: #3B4455;\n",
              "        fill: #D2E3FC;\n",
              "      }\n",
              "\n",
              "      [theme=dark] .colab-df-generate:hover {\n",
              "        background-color: #434B5C;\n",
              "        box-shadow: 0px 1px 3px 1px rgba(0, 0, 0, 0.15);\n",
              "        filter: drop-shadow(0px 1px 2px rgba(0, 0, 0, 0.3));\n",
              "        fill: #FFFFFF;\n",
              "      }\n",
              "    </style>\n",
              "    <button class=\"colab-df-generate\" onclick=\"generateWithVariable('df')\"\n",
              "            title=\"Generate code using this dataframe.\"\n",
              "            style=\"display:none;\">\n",
              "\n",
              "  <svg xmlns=\"http://www.w3.org/2000/svg\" height=\"24px\"viewBox=\"0 0 24 24\"\n",
              "       width=\"24px\">\n",
              "    <path d=\"M7,19H8.4L18.45,9,17,7.55,7,17.6ZM5,21V16.75L18.45,3.32a2,2,0,0,1,2.83,0l1.4,1.43a1.91,1.91,0,0,1,.58,1.4,1.91,1.91,0,0,1-.58,1.4L9.25,21ZM18.45,9,17,7.55Zm-12,3A5.31,5.31,0,0,0,4.9,8.1,5.31,5.31,0,0,0,1,6.5,5.31,5.31,0,0,0,4.9,4.9,5.31,5.31,0,0,0,6.5,1,5.31,5.31,0,0,0,8.1,4.9,5.31,5.31,0,0,0,12,6.5,5.46,5.46,0,0,0,6.5,12Z\"/>\n",
              "  </svg>\n",
              "    </button>\n",
              "    <script>\n",
              "      (() => {\n",
              "      const buttonEl =\n",
              "        document.querySelector('#id_31f249a3-1283-43c8-ba7e-cc01255d1b50 button.colab-df-generate');\n",
              "      buttonEl.style.display =\n",
              "        google.colab.kernel.accessAllowed ? 'block' : 'none';\n",
              "\n",
              "      buttonEl.onclick = () => {\n",
              "        google.colab.notebook.generateWithVariable('df');\n",
              "      }\n",
              "      })();\n",
              "    </script>\n",
              "  </div>\n",
              "\n",
              "    </div>\n",
              "  </div>\n"
            ],
            "text/plain": [
              "       feature_1  feature_2 feature_3  feature_4 feature_5  feature_6  \\\n",
              "0          27.75       55.0         B     875.98        No          8   \n",
              "1          31.33       39.0         C     839.91        No          4   \n",
              "2          23.87       10.0         A    1364.70       Yes          4   \n",
              "3          35.64       34.0         C    1462.07        No          4   \n",
              "4            NaN        NaN         C     710.61        No          8   \n",
              "...          ...        ...       ...        ...       ...        ...   \n",
              "40995      31.37       52.0         A    1118.04       Yes          9   \n",
              "40996      33.18       98.0         A    1001.55        No          3   \n",
              "40997      24.77       91.0         B    1030.09       Yes          7   \n",
              "40998        NaN       90.0         C    1335.11       Yes          8   \n",
              "40999      23.16       48.0         B     916.39       Yes          2   \n",
              "\n",
              "       feature_7  target  \n",
              "0          44.16       0  \n",
              "1          13.93       1  \n",
              "2          15.16       0  \n",
              "3          15.71       1  \n",
              "4          13.77       1  \n",
              "...          ...     ...  \n",
              "40995      22.59       1  \n",
              "40996      41.25       0  \n",
              "40997        NaN       0  \n",
              "40998       0.80       0  \n",
              "40999       4.65       1  \n",
              "\n",
              "[41000 rows x 8 columns]"
            ]
          },
          "execution_count": 3,
          "metadata": {},
          "output_type": "execute_result"
        }
      ],
      "source": [
        "df = pd.read_csv('/content/sample_data/pdc_dataset_with_target.csv')\n",
        "df"
      ]
    },
    {
      "cell_type": "markdown",
      "id": "95e51352",
      "metadata": {
        "id": "95e51352"
      },
      "source": [
        "## Handling Missing Values"
      ]
    },
    {
      "cell_type": "code",
      "execution_count": 4,
      "id": "bab469a7",
      "metadata": {
        "colab": {
          "base_uri": "https://localhost:8080/"
        },
        "id": "bab469a7",
        "outputId": "22770582-9572-45c4-a975-e7a584d12fd4"
      },
      "outputs": [
        {
          "name": "stdout",
          "output_type": "stream",
          "text": [
            "Rows with NaN: 7584 out of 41000 (18.50%)\n"
          ]
        },
        {
          "data": {
            "text/plain": [
              "(33416, 8)"
            ]
          },
          "execution_count": 4,
          "metadata": {},
          "output_type": "execute_result"
        }
      ],
      "source": [
        "nan_rows = df.isnull().any(axis=1).sum()\n",
        "total_rows = len(df)\n",
        "print(f'Rows with NaN: {nan_rows} out of {total_rows} ({nan_rows/total_rows:.2%})')\n",
        "df = df.dropna()\n",
        "df.shape"
      ]
    },
    {
      "cell_type": "markdown",
      "id": "56c85771",
      "metadata": {
        "id": "56c85771"
      },
      "source": [
        "## Encoding and Normalization"
      ]
    },
    {
      "cell_type": "code",
      "execution_count": 5,
      "id": "fa847dc4",
      "metadata": {
        "colab": {
          "base_uri": "https://localhost:8080/",
          "height": 424
        },
        "id": "fa847dc4",
        "outputId": "39139ef3-89bc-4b1c-bbff-f740ad6564a7"
      },
      "outputs": [
        {
          "data": {
            "application/vnd.google.colaboratory.intrinsic+json": {
              "summary": "{\n  \"name\": \"df_scaled\",\n  \"rows\": 33416,\n  \"fields\": [\n    {\n      \"column\": \"feature_1\",\n      \"properties\": {\n        \"dtype\": \"number\",\n        \"std\": 1.0000149632278645,\n        \"min\": -4.461047259511559,\n        \"max\": 4.475473422280933,\n        \"num_unique_values\": 2729,\n        \"samples\": [\n          1.1509998219002695,\n          -3.6319267401858526,\n          -1.9676920592260616\n        ],\n        \"semantic_type\": \"\",\n        \"description\": \"\"\n      }\n    },\n    {\n      \"column\": \"feature_2\",\n      \"properties\": {\n        \"dtype\": \"number\",\n        \"std\": 1.0000149632278452,\n        \"min\": -1.7092564639708159,\n        \"max\": 1.7109437240224952,\n        \"num_unique_values\": 100,\n        \"samples\": [\n          1.0545416677409505,\n          -1.6056140340316247,\n          -1.5019716040924334\n        ],\n        \"semantic_type\": \"\",\n        \"description\": \"\"\n      }\n    },\n    {\n      \"column\": \"feature_4\",\n      \"properties\": {\n        \"dtype\": \"number\",\n        \"std\": 1.0000149632278676,\n        \"min\": -1.2213038691029396,\n        \"max\": 16.18066968815731,\n        \"num_unique_values\": 28173,\n        \"samples\": [\n          -0.5373490995865853,\n          -0.2103890761123169,\n          0.092363273833984\n        ],\n        \"semantic_type\": \"\",\n        \"description\": \"\"\n      }\n    },\n    {\n      \"column\": \"feature_6\",\n      \"properties\": {\n        \"dtype\": \"number\",\n        \"std\": 1.0000149632278397,\n        \"min\": -1.5543698767011187,\n        \"max\": 1.5389569333841688,\n        \"num_unique_values\": 9,\n        \"samples\": [\n          -0.7810381741797968,\n          -0.3943723229191359,\n          0.765625230862847\n        ],\n        \"semantic_type\": \"\",\n        \"description\": \"\"\n      }\n    },\n    {\n      \"column\": \"feature_7\",\n      \"properties\": {\n        \"dtype\": \"number\",\n        \"std\": 1.000014963227877,\n        \"min\": -0.48999607272748225,\n        \"max\": 34.9138430501823,\n        \"num_unique_values\": 6960,\n        \"samples\": [\n          0.6862947767439543,\n          0.4230256214164399,\n          0.3356245253158076\n        ],\n        \"semantic_type\": \"\",\n        \"description\": \"\"\n      }\n    },\n    {\n      \"column\": \"feature_3_B\",\n      \"properties\": {\n        \"dtype\": \"number\",\n        \"std\": 1.0000149632281186,\n        \"min\": -0.7017492340533169,\n        \"max\": 1.425010461677287,\n        \"num_unique_values\": 2,\n        \"samples\": [\n          -0.7017492340533169,\n          1.425010461677287\n        ],\n        \"semantic_type\": \"\",\n        \"description\": \"\"\n      }\n    },\n    {\n      \"column\": \"feature_3_C\",\n      \"properties\": {\n        \"dtype\": \"number\",\n        \"std\": 1.0000149632278539,\n        \"min\": -0.710362756675357,\n        \"max\": 1.4077314591775678,\n        \"num_unique_values\": 2,\n        \"samples\": [\n          1.4077314591775678,\n          -0.710362756675357\n        ],\n        \"semantic_type\": \"\",\n        \"description\": \"\"\n      }\n    },\n    {\n      \"column\": \"feature_5_Yes\",\n      \"properties\": {\n        \"dtype\": \"number\",\n        \"std\": 1.0000149632277653,\n        \"min\": -1.0016772504897378,\n        \"max\": 0.9983255579689788,\n        \"num_unique_values\": 2,\n        \"samples\": [\n          0.9983255579689788,\n          -1.0016772504897378\n        ],\n        \"semantic_type\": \"\",\n        \"description\": \"\"\n      }\n    },\n    {\n      \"column\": \"target\",\n      \"properties\": {\n        \"dtype\": \"number\",\n        \"std\": 0,\n        \"min\": 0,\n        \"max\": 1,\n        \"num_unique_values\": 2,\n        \"samples\": [\n          1,\n          0\n        ],\n        \"semantic_type\": \"\",\n        \"description\": \"\"\n      }\n    }\n  ]\n}",
              "type": "dataframe",
              "variable_name": "df_scaled"
            },
            "text/html": [
              "\n",
              "  <div id=\"df-eda180ef-abbe-4823-a373-1d95c67d96b0\" class=\"colab-df-container\">\n",
              "    <div>\n",
              "<style scoped>\n",
              "    .dataframe tbody tr th:only-of-type {\n",
              "        vertical-align: middle;\n",
              "    }\n",
              "\n",
              "    .dataframe tbody tr th {\n",
              "        vertical-align: top;\n",
              "    }\n",
              "\n",
              "    .dataframe thead th {\n",
              "        text-align: right;\n",
              "    }\n",
              "</style>\n",
              "<table border=\"1\" class=\"dataframe\">\n",
              "  <thead>\n",
              "    <tr style=\"text-align: right;\">\n",
              "      <th></th>\n",
              "      <th>feature_1</th>\n",
              "      <th>feature_2</th>\n",
              "      <th>feature_4</th>\n",
              "      <th>feature_6</th>\n",
              "      <th>feature_7</th>\n",
              "      <th>feature_3_B</th>\n",
              "      <th>feature_3_C</th>\n",
              "      <th>feature_5_Yes</th>\n",
              "      <th>target</th>\n",
              "    </tr>\n",
              "  </thead>\n",
              "  <tbody>\n",
              "    <tr>\n",
              "      <th>0</th>\n",
              "      <td>-0.449303</td>\n",
              "      <td>0.190855</td>\n",
              "      <td>-0.212716</td>\n",
              "      <td>1.152291</td>\n",
              "      <td>0.451378</td>\n",
              "      <td>1.425010</td>\n",
              "      <td>-0.710363</td>\n",
              "      <td>-1.001677</td>\n",
              "      <td>0</td>\n",
              "    </tr>\n",
              "    <tr>\n",
              "      <th>1</th>\n",
              "      <td>0.265939</td>\n",
              "      <td>-0.361905</td>\n",
              "      <td>-0.247981</td>\n",
              "      <td>-0.394372</td>\n",
              "      <td>-0.193046</td>\n",
              "      <td>-0.701749</td>\n",
              "      <td>1.407731</td>\n",
              "      <td>-1.001677</td>\n",
              "      <td>1</td>\n",
              "    </tr>\n",
              "    <tr>\n",
              "      <th>2</th>\n",
              "      <td>-1.224480</td>\n",
              "      <td>-1.363782</td>\n",
              "      <td>0.265102</td>\n",
              "      <td>-0.394372</td>\n",
              "      <td>-0.166825</td>\n",
              "      <td>-0.701749</td>\n",
              "      <td>-0.710363</td>\n",
              "      <td>0.998326</td>\n",
              "      <td>0</td>\n",
              "    </tr>\n",
              "    <tr>\n",
              "      <th>3</th>\n",
              "      <td>1.127025</td>\n",
              "      <td>-0.534642</td>\n",
              "      <td>0.360300</td>\n",
              "      <td>-0.394372</td>\n",
              "      <td>-0.155101</td>\n",
              "      <td>-0.701749</td>\n",
              "      <td>1.407731</td>\n",
              "      <td>-1.001677</td>\n",
              "      <td>1</td>\n",
              "    </tr>\n",
              "    <tr>\n",
              "      <th>4</th>\n",
              "      <td>-0.307453</td>\n",
              "      <td>-0.707380</td>\n",
              "      <td>-0.234499</td>\n",
              "      <td>-0.007706</td>\n",
              "      <td>-0.007158</td>\n",
              "      <td>-0.701749</td>\n",
              "      <td>1.407731</td>\n",
              "      <td>-1.001677</td>\n",
              "      <td>0</td>\n",
              "    </tr>\n",
              "    <tr>\n",
              "      <th>...</th>\n",
              "      <td>...</td>\n",
              "      <td>...</td>\n",
              "      <td>...</td>\n",
              "      <td>...</td>\n",
              "      <td>...</td>\n",
              "      <td>...</td>\n",
              "      <td>...</td>\n",
              "      <td>...</td>\n",
              "      <td>...</td>\n",
              "    </tr>\n",
              "    <tr>\n",
              "      <th>33411</th>\n",
              "      <td>1.474657</td>\n",
              "      <td>0.536330</td>\n",
              "      <td>0.286142</td>\n",
              "      <td>-0.394372</td>\n",
              "      <td>0.760053</td>\n",
              "      <td>-0.701749</td>\n",
              "      <td>-0.710363</td>\n",
              "      <td>0.998326</td>\n",
              "      <td>1</td>\n",
              "    </tr>\n",
              "    <tr>\n",
              "      <th>33412</th>\n",
              "      <td>-0.740993</td>\n",
              "      <td>-1.329234</td>\n",
              "      <td>0.199694</td>\n",
              "      <td>0.765625</td>\n",
              "      <td>0.557112</td>\n",
              "      <td>-0.701749</td>\n",
              "      <td>-0.710363</td>\n",
              "      <td>0.998326</td>\n",
              "      <td>0</td>\n",
              "    </tr>\n",
              "    <tr>\n",
              "      <th>33413</th>\n",
              "      <td>0.273930</td>\n",
              "      <td>0.087212</td>\n",
              "      <td>0.023944</td>\n",
              "      <td>1.538957</td>\n",
              "      <td>-0.008437</td>\n",
              "      <td>-0.701749</td>\n",
              "      <td>-0.710363</td>\n",
              "      <td>0.998326</td>\n",
              "      <td>1</td>\n",
              "    </tr>\n",
              "    <tr>\n",
              "      <th>33414</th>\n",
              "      <td>0.635547</td>\n",
              "      <td>1.676396</td>\n",
              "      <td>-0.089947</td>\n",
              "      <td>-0.781038</td>\n",
              "      <td>0.389344</td>\n",
              "      <td>-0.701749</td>\n",
              "      <td>-0.710363</td>\n",
              "      <td>-1.001677</td>\n",
              "      <td>0</td>\n",
              "    </tr>\n",
              "    <tr>\n",
              "      <th>33415</th>\n",
              "      <td>-1.366330</td>\n",
              "      <td>-0.050978</td>\n",
              "      <td>-0.173207</td>\n",
              "      <td>-1.167704</td>\n",
              "      <td>-0.390870</td>\n",
              "      <td>1.425010</td>\n",
              "      <td>-0.710363</td>\n",
              "      <td>0.998326</td>\n",
              "      <td>1</td>\n",
              "    </tr>\n",
              "  </tbody>\n",
              "</table>\n",
              "<p>33416 rows × 9 columns</p>\n",
              "</div>\n",
              "    <div class=\"colab-df-buttons\">\n",
              "\n",
              "  <div class=\"colab-df-container\">\n",
              "    <button class=\"colab-df-convert\" onclick=\"convertToInteractive('df-eda180ef-abbe-4823-a373-1d95c67d96b0')\"\n",
              "            title=\"Convert this dataframe to an interactive table.\"\n",
              "            style=\"display:none;\">\n",
              "\n",
              "  <svg xmlns=\"http://www.w3.org/2000/svg\" height=\"24px\" viewBox=\"0 -960 960 960\">\n",
              "    <path d=\"M120-120v-720h720v720H120Zm60-500h600v-160H180v160Zm220 220h160v-160H400v160Zm0 220h160v-160H400v160ZM180-400h160v-160H180v160Zm440 0h160v-160H620v160ZM180-180h160v-160H180v160Zm440 0h160v-160H620v160Z\"/>\n",
              "  </svg>\n",
              "    </button>\n",
              "\n",
              "  <style>\n",
              "    .colab-df-container {\n",
              "      display:flex;\n",
              "      gap: 12px;\n",
              "    }\n",
              "\n",
              "    .colab-df-convert {\n",
              "      background-color: #E8F0FE;\n",
              "      border: none;\n",
              "      border-radius: 50%;\n",
              "      cursor: pointer;\n",
              "      display: none;\n",
              "      fill: #1967D2;\n",
              "      height: 32px;\n",
              "      padding: 0 0 0 0;\n",
              "      width: 32px;\n",
              "    }\n",
              "\n",
              "    .colab-df-convert:hover {\n",
              "      background-color: #E2EBFA;\n",
              "      box-shadow: 0px 1px 2px rgba(60, 64, 67, 0.3), 0px 1px 3px 1px rgba(60, 64, 67, 0.15);\n",
              "      fill: #174EA6;\n",
              "    }\n",
              "\n",
              "    .colab-df-buttons div {\n",
              "      margin-bottom: 4px;\n",
              "    }\n",
              "\n",
              "    [theme=dark] .colab-df-convert {\n",
              "      background-color: #3B4455;\n",
              "      fill: #D2E3FC;\n",
              "    }\n",
              "\n",
              "    [theme=dark] .colab-df-convert:hover {\n",
              "      background-color: #434B5C;\n",
              "      box-shadow: 0px 1px 3px 1px rgba(0, 0, 0, 0.15);\n",
              "      filter: drop-shadow(0px 1px 2px rgba(0, 0, 0, 0.3));\n",
              "      fill: #FFFFFF;\n",
              "    }\n",
              "  </style>\n",
              "\n",
              "    <script>\n",
              "      const buttonEl =\n",
              "        document.querySelector('#df-eda180ef-abbe-4823-a373-1d95c67d96b0 button.colab-df-convert');\n",
              "      buttonEl.style.display =\n",
              "        google.colab.kernel.accessAllowed ? 'block' : 'none';\n",
              "\n",
              "      async function convertToInteractive(key) {\n",
              "        const element = document.querySelector('#df-eda180ef-abbe-4823-a373-1d95c67d96b0');\n",
              "        const dataTable =\n",
              "          await google.colab.kernel.invokeFunction('convertToInteractive',\n",
              "                                                    [key], {});\n",
              "        if (!dataTable) return;\n",
              "\n",
              "        const docLinkHtml = 'Like what you see? Visit the ' +\n",
              "          '<a target=\"_blank\" href=https://colab.research.google.com/notebooks/data_table.ipynb>data table notebook</a>'\n",
              "          + ' to learn more about interactive tables.';\n",
              "        element.innerHTML = '';\n",
              "        dataTable['output_type'] = 'display_data';\n",
              "        await google.colab.output.renderOutput(dataTable, element);\n",
              "        const docLink = document.createElement('div');\n",
              "        docLink.innerHTML = docLinkHtml;\n",
              "        element.appendChild(docLink);\n",
              "      }\n",
              "    </script>\n",
              "  </div>\n",
              "\n",
              "\n",
              "    <div id=\"df-9e264c69-e98a-49c3-bdbf-bc0e68576ab3\">\n",
              "      <button class=\"colab-df-quickchart\" onclick=\"quickchart('df-9e264c69-e98a-49c3-bdbf-bc0e68576ab3')\"\n",
              "                title=\"Suggest charts\"\n",
              "                style=\"display:none;\">\n",
              "\n",
              "<svg xmlns=\"http://www.w3.org/2000/svg\" height=\"24px\"viewBox=\"0 0 24 24\"\n",
              "     width=\"24px\">\n",
              "    <g>\n",
              "        <path d=\"M19 3H5c-1.1 0-2 .9-2 2v14c0 1.1.9 2 2 2h14c1.1 0 2-.9 2-2V5c0-1.1-.9-2-2-2zM9 17H7v-7h2v7zm4 0h-2V7h2v10zm4 0h-2v-4h2v4z\"/>\n",
              "    </g>\n",
              "</svg>\n",
              "      </button>\n",
              "\n",
              "<style>\n",
              "  .colab-df-quickchart {\n",
              "      --bg-color: #E8F0FE;\n",
              "      --fill-color: #1967D2;\n",
              "      --hover-bg-color: #E2EBFA;\n",
              "      --hover-fill-color: #174EA6;\n",
              "      --disabled-fill-color: #AAA;\n",
              "      --disabled-bg-color: #DDD;\n",
              "  }\n",
              "\n",
              "  [theme=dark] .colab-df-quickchart {\n",
              "      --bg-color: #3B4455;\n",
              "      --fill-color: #D2E3FC;\n",
              "      --hover-bg-color: #434B5C;\n",
              "      --hover-fill-color: #FFFFFF;\n",
              "      --disabled-bg-color: #3B4455;\n",
              "      --disabled-fill-color: #666;\n",
              "  }\n",
              "\n",
              "  .colab-df-quickchart {\n",
              "    background-color: var(--bg-color);\n",
              "    border: none;\n",
              "    border-radius: 50%;\n",
              "    cursor: pointer;\n",
              "    display: none;\n",
              "    fill: var(--fill-color);\n",
              "    height: 32px;\n",
              "    padding: 0;\n",
              "    width: 32px;\n",
              "  }\n",
              "\n",
              "  .colab-df-quickchart:hover {\n",
              "    background-color: var(--hover-bg-color);\n",
              "    box-shadow: 0 1px 2px rgba(60, 64, 67, 0.3), 0 1px 3px 1px rgba(60, 64, 67, 0.15);\n",
              "    fill: var(--button-hover-fill-color);\n",
              "  }\n",
              "\n",
              "  .colab-df-quickchart-complete:disabled,\n",
              "  .colab-df-quickchart-complete:disabled:hover {\n",
              "    background-color: var(--disabled-bg-color);\n",
              "    fill: var(--disabled-fill-color);\n",
              "    box-shadow: none;\n",
              "  }\n",
              "\n",
              "  .colab-df-spinner {\n",
              "    border: 2px solid var(--fill-color);\n",
              "    border-color: transparent;\n",
              "    border-bottom-color: var(--fill-color);\n",
              "    animation:\n",
              "      spin 1s steps(1) infinite;\n",
              "  }\n",
              "\n",
              "  @keyframes spin {\n",
              "    0% {\n",
              "      border-color: transparent;\n",
              "      border-bottom-color: var(--fill-color);\n",
              "      border-left-color: var(--fill-color);\n",
              "    }\n",
              "    20% {\n",
              "      border-color: transparent;\n",
              "      border-left-color: var(--fill-color);\n",
              "      border-top-color: var(--fill-color);\n",
              "    }\n",
              "    30% {\n",
              "      border-color: transparent;\n",
              "      border-left-color: var(--fill-color);\n",
              "      border-top-color: var(--fill-color);\n",
              "      border-right-color: var(--fill-color);\n",
              "    }\n",
              "    40% {\n",
              "      border-color: transparent;\n",
              "      border-right-color: var(--fill-color);\n",
              "      border-top-color: var(--fill-color);\n",
              "    }\n",
              "    60% {\n",
              "      border-color: transparent;\n",
              "      border-right-color: var(--fill-color);\n",
              "    }\n",
              "    80% {\n",
              "      border-color: transparent;\n",
              "      border-right-color: var(--fill-color);\n",
              "      border-bottom-color: var(--fill-color);\n",
              "    }\n",
              "    90% {\n",
              "      border-color: transparent;\n",
              "      border-bottom-color: var(--fill-color);\n",
              "    }\n",
              "  }\n",
              "</style>\n",
              "\n",
              "      <script>\n",
              "        async function quickchart(key) {\n",
              "          const quickchartButtonEl =\n",
              "            document.querySelector('#' + key + ' button');\n",
              "          quickchartButtonEl.disabled = true;  // To prevent multiple clicks.\n",
              "          quickchartButtonEl.classList.add('colab-df-spinner');\n",
              "          try {\n",
              "            const charts = await google.colab.kernel.invokeFunction(\n",
              "                'suggestCharts', [key], {});\n",
              "          } catch (error) {\n",
              "            console.error('Error during call to suggestCharts:', error);\n",
              "          }\n",
              "          quickchartButtonEl.classList.remove('colab-df-spinner');\n",
              "          quickchartButtonEl.classList.add('colab-df-quickchart-complete');\n",
              "        }\n",
              "        (() => {\n",
              "          let quickchartButtonEl =\n",
              "            document.querySelector('#df-9e264c69-e98a-49c3-bdbf-bc0e68576ab3 button');\n",
              "          quickchartButtonEl.style.display =\n",
              "            google.colab.kernel.accessAllowed ? 'block' : 'none';\n",
              "        })();\n",
              "      </script>\n",
              "    </div>\n",
              "\n",
              "  <div id=\"id_955bb4a9-1bf8-4ca6-8f24-3ba55a87315e\">\n",
              "    <style>\n",
              "      .colab-df-generate {\n",
              "        background-color: #E8F0FE;\n",
              "        border: none;\n",
              "        border-radius: 50%;\n",
              "        cursor: pointer;\n",
              "        display: none;\n",
              "        fill: #1967D2;\n",
              "        height: 32px;\n",
              "        padding: 0 0 0 0;\n",
              "        width: 32px;\n",
              "      }\n",
              "\n",
              "      .colab-df-generate:hover {\n",
              "        background-color: #E2EBFA;\n",
              "        box-shadow: 0px 1px 2px rgba(60, 64, 67, 0.3), 0px 1px 3px 1px rgba(60, 64, 67, 0.15);\n",
              "        fill: #174EA6;\n",
              "      }\n",
              "\n",
              "      [theme=dark] .colab-df-generate {\n",
              "        background-color: #3B4455;\n",
              "        fill: #D2E3FC;\n",
              "      }\n",
              "\n",
              "      [theme=dark] .colab-df-generate:hover {\n",
              "        background-color: #434B5C;\n",
              "        box-shadow: 0px 1px 3px 1px rgba(0, 0, 0, 0.15);\n",
              "        filter: drop-shadow(0px 1px 2px rgba(0, 0, 0, 0.3));\n",
              "        fill: #FFFFFF;\n",
              "      }\n",
              "    </style>\n",
              "    <button class=\"colab-df-generate\" onclick=\"generateWithVariable('df_scaled')\"\n",
              "            title=\"Generate code using this dataframe.\"\n",
              "            style=\"display:none;\">\n",
              "\n",
              "  <svg xmlns=\"http://www.w3.org/2000/svg\" height=\"24px\"viewBox=\"0 0 24 24\"\n",
              "       width=\"24px\">\n",
              "    <path d=\"M7,19H8.4L18.45,9,17,7.55,7,17.6ZM5,21V16.75L18.45,3.32a2,2,0,0,1,2.83,0l1.4,1.43a1.91,1.91,0,0,1,.58,1.4,1.91,1.91,0,0,1-.58,1.4L9.25,21ZM18.45,9,17,7.55Zm-12,3A5.31,5.31,0,0,0,4.9,8.1,5.31,5.31,0,0,0,1,6.5,5.31,5.31,0,0,0,4.9,4.9,5.31,5.31,0,0,0,6.5,1,5.31,5.31,0,0,0,8.1,4.9,5.31,5.31,0,0,0,12,6.5,5.46,5.46,0,0,0,6.5,12Z\"/>\n",
              "  </svg>\n",
              "    </button>\n",
              "    <script>\n",
              "      (() => {\n",
              "      const buttonEl =\n",
              "        document.querySelector('#id_955bb4a9-1bf8-4ca6-8f24-3ba55a87315e button.colab-df-generate');\n",
              "      buttonEl.style.display =\n",
              "        google.colab.kernel.accessAllowed ? 'block' : 'none';\n",
              "\n",
              "      buttonEl.onclick = () => {\n",
              "        google.colab.notebook.generateWithVariable('df_scaled');\n",
              "      }\n",
              "      })();\n",
              "    </script>\n",
              "  </div>\n",
              "\n",
              "    </div>\n",
              "  </div>\n"
            ],
            "text/plain": [
              "       feature_1  feature_2  feature_4  feature_6  feature_7  feature_3_B  \\\n",
              "0      -0.449303   0.190855  -0.212716   1.152291   0.451378     1.425010   \n",
              "1       0.265939  -0.361905  -0.247981  -0.394372  -0.193046    -0.701749   \n",
              "2      -1.224480  -1.363782   0.265102  -0.394372  -0.166825    -0.701749   \n",
              "3       1.127025  -0.534642   0.360300  -0.394372  -0.155101    -0.701749   \n",
              "4      -0.307453  -0.707380  -0.234499  -0.007706  -0.007158    -0.701749   \n",
              "...          ...        ...        ...        ...        ...          ...   \n",
              "33411   1.474657   0.536330   0.286142  -0.394372   0.760053    -0.701749   \n",
              "33412  -0.740993  -1.329234   0.199694   0.765625   0.557112    -0.701749   \n",
              "33413   0.273930   0.087212   0.023944   1.538957  -0.008437    -0.701749   \n",
              "33414   0.635547   1.676396  -0.089947  -0.781038   0.389344    -0.701749   \n",
              "33415  -1.366330  -0.050978  -0.173207  -1.167704  -0.390870     1.425010   \n",
              "\n",
              "       feature_3_C  feature_5_Yes  target  \n",
              "0        -0.710363      -1.001677       0  \n",
              "1         1.407731      -1.001677       1  \n",
              "2        -0.710363       0.998326       0  \n",
              "3         1.407731      -1.001677       1  \n",
              "4         1.407731      -1.001677       0  \n",
              "...            ...            ...     ...  \n",
              "33411    -0.710363       0.998326       1  \n",
              "33412    -0.710363       0.998326       0  \n",
              "33413    -0.710363       0.998326       1  \n",
              "33414    -0.710363      -1.001677       0  \n",
              "33415    -0.710363       0.998326       1  \n",
              "\n",
              "[33416 rows x 9 columns]"
            ]
          },
          "execution_count": 5,
          "metadata": {},
          "output_type": "execute_result"
        }
      ],
      "source": [
        "df = pd.get_dummies(df, drop_first=True)\n",
        "features = df.drop('target', axis=1)\n",
        "scaler = StandardScaler()\n",
        "features_scaled = pd.DataFrame(scaler.fit_transform(features), columns=features.columns)\n",
        "df_scaled = features_scaled.copy()\n",
        "df_scaled['target'] = df['target'].values\n",
        "df_scaled"
      ]
    },
    {
      "cell_type": "markdown",
      "id": "20af823b",
      "metadata": {
        "id": "20af823b"
      },
      "source": [
        "## Balancing the Dataset"
      ]
    },
    {
      "cell_type": "code",
      "execution_count": 6,
      "id": "7bc0cd2d",
      "metadata": {
        "colab": {
          "base_uri": "https://localhost:8080/",
          "height": 178
        },
        "id": "7bc0cd2d",
        "outputId": "537466dd-7229-44c3-9c82-651fd7039917"
      },
      "outputs": [
        {
          "data": {
            "text/html": [
              "<div>\n",
              "<style scoped>\n",
              "    .dataframe tbody tr th:only-of-type {\n",
              "        vertical-align: middle;\n",
              "    }\n",
              "\n",
              "    .dataframe tbody tr th {\n",
              "        vertical-align: top;\n",
              "    }\n",
              "\n",
              "    .dataframe thead th {\n",
              "        text-align: right;\n",
              "    }\n",
              "</style>\n",
              "<table border=\"1\" class=\"dataframe\">\n",
              "  <thead>\n",
              "    <tr style=\"text-align: right;\">\n",
              "      <th></th>\n",
              "      <th>proportion</th>\n",
              "    </tr>\n",
              "    <tr>\n",
              "      <th>target</th>\n",
              "      <th></th>\n",
              "    </tr>\n",
              "  </thead>\n",
              "  <tbody>\n",
              "    <tr>\n",
              "      <th>0</th>\n",
              "      <td>0.5</td>\n",
              "    </tr>\n",
              "    <tr>\n",
              "      <th>1</th>\n",
              "      <td>0.5</td>\n",
              "    </tr>\n",
              "  </tbody>\n",
              "</table>\n",
              "</div><br><label><b>dtype:</b> float64</label>"
            ],
            "text/plain": [
              "target\n",
              "0    0.5\n",
              "1    0.5\n",
              "Name: proportion, dtype: float64"
            ]
          },
          "execution_count": 6,
          "metadata": {},
          "output_type": "execute_result"
        }
      ],
      "source": [
        "smote = SMOTE(random_state=42)\n",
        "X = df_scaled.drop('target', axis=1)\n",
        "y = df_scaled['target']\n",
        "X_resampled, y_resampled = smote.fit_resample(X, y)\n",
        "df_scaled = pd.concat([X_resampled, y_resampled], axis=1)\n",
        "df_scaled['target'].value_counts(normalize=True)"
      ]
    },
    {
      "cell_type": "markdown",
      "id": "2178c893",
      "metadata": {
        "id": "2178c893"
      },
      "source": [
        "## Binary Classification"
      ]
    },
    {
      "cell_type": "code",
      "execution_count": 7,
      "id": "1b77fee6",
      "metadata": {
        "id": "1b77fee6"
      },
      "outputs": [],
      "source": [
        "X = df_scaled.drop('target', axis=1)\n",
        "y = df_scaled['target']\n",
        "\n",
        "X_remaining, x_init, y_remaining, y_init = train_test_split(\n",
        "    X, y, test_size=0.15, random_state=42)\n",
        "\n",
        "X_train, X_test, y_train, y_test = train_test_split(\n",
        "    X_remaining, y_remaining, test_size=0.2, random_state=42)\n",
        "\n",
        "x_init_train, x_init_test, y_init_train, y_init_test = train_test_split(\n",
        "    x_init, y_init, test_size=0.2, random_state=42)"
      ]
    },
    {
      "cell_type": "markdown",
      "id": "9992546a",
      "metadata": {
        "id": "9992546a"
      },
      "source": [
        "### Binary Classification with Execution Time"
      ]
    },
    {
      "cell_type": "code",
      "execution_count": null,
      "id": "7be8bae1",
      "metadata": {
        "colab": {
          "base_uri": "https://localhost:8080/"
        },
        "id": "7be8bae1",
        "outputId": "b0f3fff8-c79e-4d2d-cbaf-cb2fa7d9025a"
      },
      "outputs": [
        {
          "name": "stdout",
          "output_type": "stream",
          "text": [
            "Logistic Regression Accuracy: 0.4818\n",
            "SVM Accuracy: 0.4768\n",
            "Decision Tree Accuracy: 0.5141\n",
            "Random Forest Accuracy: 0.5033\n",
            "XGBoost Accuracy: 0.5356\n"
          ]
        },
        {
          "name": "stderr",
          "output_type": "stream",
          "text": [
            "/usr/local/lib/python3.11/dist-packages/xgboost/core.py:158: UserWarning: [13:21:11] WARNING: /workspace/src/learner.cc:740: \n",
            "Parameters: { \"use_label_encoder\" } are not used.\n",
            "\n",
            "  warnings.warn(smsg, UserWarning)\n"
          ]
        },
        {
          "name": "stdout",
          "output_type": "stream",
          "text": [
            "CatBoost Accuracy: 0.5041\n",
            "[LightGBM] [Info] Number of positive: 2412, number of negative: 2419\n",
            "[LightGBM] [Info] Auto-choosing row-wise multi-threading, the overhead of testing was 0.000277 seconds.\n",
            "You can set `force_row_wise=true` to remove the overhead.\n",
            "And if memory is not enough, you can set `force_col_wise=true`.\n",
            "[LightGBM] [Info] Total Bins 1114\n",
            "[LightGBM] [Info] Number of data points in the train set: 4831, number of used features: 8\n",
            "[LightGBM] [Info] [binary:BoostFromScore]: pavg=0.499276 -> initscore=-0.002898\n",
            "[LightGBM] [Info] Start training from score -0.002898\n",
            "LightGBM Accuracy: 0.5190\n",
            "MLP Accuracy: 0.4851\n"
          ]
        },
        {
          "name": "stderr",
          "output_type": "stream",
          "text": [
            "/usr/local/lib/python3.11/dist-packages/sklearn/neural_network/_multilayer_perceptron.py:691: ConvergenceWarning: Stochastic Optimizer: Maximum iterations (300) reached and the optimization hasn't converged yet.\n",
            "  warnings.warn(\n"
          ]
        },
        {
          "name": "stdout",
          "output_type": "stream",
          "text": [
            "Voting Ensemble Accuracy: 0.5215\n"
          ]
        }
      ],
      "source": [
        "import time\n",
        "from sklearn.metrics import accuracy_score\n",
        "from sklearn.linear_model import LogisticRegression\n",
        "from sklearn.svm import SVC\n",
        "from sklearn.tree import DecisionTreeClassifier\n",
        "from sklearn.ensemble import RandomForestClassifier, VotingClassifier\n",
        "from sklearn.neural_network import MLPClassifier\n",
        "from xgboost import XGBClassifier\n",
        "from catboost import CatBoostClassifier\n",
        "from lightgbm import LGBMClassifier\n",
        "\n",
        "#Logistic Regression\n",
        "lr = LogisticRegression(max_iter=1000, random_state=42)\n",
        "lr.fit(x_init_train, y_init_train)\n",
        "y_pred_lr = lr.predict(x_init_test)\n",
        "print(f\"Logistic Regression Accuracy: {accuracy_score(y_init_test, y_pred_lr):.4f}\")\n",
        "\n",
        "#SVM\n",
        "svm = SVC(probability=True, random_state=42)\n",
        "svm.fit(x_init_train, y_init_train)\n",
        "y_pred_svm = svm.predict(x_init_test)\n",
        "print(f\"SVM Accuracy: {accuracy_score(y_init_test, y_pred_svm):.4f}\")\n",
        "\n",
        "#Decision Tree\n",
        "dt = DecisionTreeClassifier(random_state=42)\n",
        "dt.fit(x_init_train, y_init_train)\n",
        "y_pred_dt = dt.predict(x_init_test)\n",
        "print(f\"Decision Tree Accuracy: {accuracy_score(y_init_test, y_pred_dt):.4f}\")\n",
        "\n",
        "# Random Forest\n",
        "rf = RandomForestClassifier(n_estimators=200, n_jobs=-1, random_state=42)\n",
        "rf.fit(x_init_train, y_init_train)\n",
        "y_pred_rf = rf.predict(x_init_test)\n",
        "print(f\"Random Forest Accuracy: {accuracy_score(y_init_test, y_pred_rf):.4f}\")\n",
        "\n",
        "# XGBoost\n",
        "xgb = XGBClassifier(use_label_encoder=False, eval_metric='logloss', random_state=42)\n",
        "xgb.fit(x_init_train, y_init_train)\n",
        "y_pred_xgb = xgb.predict(x_init_test)\n",
        "print(f\"XGBoost Accuracy: {accuracy_score(y_init_test, y_pred_xgb):.4f}\")\n",
        "\n",
        "# CatBoost\n",
        "cat = CatBoostClassifier(verbose=0, random_state=42)\n",
        "cat.fit(x_init_train, y_init_train)\n",
        "y_pred_cat = cat.predict(x_init_test)\n",
        "print(f\"CatBoost Accuracy: {accuracy_score(y_init_test, y_pred_cat):.4f}\")\n",
        "\n",
        "# LightGBM\n",
        "lgbm = LGBMClassifier(random_state=42)\n",
        "lgbm.fit(x_init_train, y_init_train)\n",
        "y_pred_lgbm = lgbm.predict(x_init_test)\n",
        "print(f\"LightGBM Accuracy: {accuracy_score(y_init_test, y_pred_lgbm):.4f}\")\n",
        "\n",
        "# MLP (Neural Net)\n",
        "mlp = MLPClassifier(hidden_layer_sizes=(100,), max_iter=300, random_state=42)\n",
        "mlp.fit(x_init_train, y_init_train)\n",
        "y_pred_mlp = mlp.predict(x_init_test)\n",
        "print(f\"MLP Accuracy: {accuracy_score(y_init_test, y_pred_mlp):.4f}\")\n",
        "\n",
        "# Voting Ensemble\n",
        "voting_clf = VotingClassifier(\n",
        "    estimators=[\n",
        "        ('rf', RandomForestClassifier(n_estimators=200, random_state=42)),\n",
        "        ('cat', CatBoostClassifier(verbose=0, random_state=42))\n",
        "    ],\n",
        "    voting='soft',\n",
        "    n_jobs=-1\n",
        ")\n",
        "voting_clf.fit(x_init_train, y_init_train)\n",
        "y_pred_ensemble = voting_clf.predict(x_init_test)\n",
        "print(f\"Voting Ensemble Accuracy: {accuracy_score(y_init_test, y_pred_ensemble):.4f}\")\n"
      ]
    },
    {
      "cell_type": "markdown",
      "id": "41eafa47",
      "metadata": {
        "id": "41eafa47"
      },
      "source": [
        "## Testing best accelerator"
      ]
    },
    {
      "cell_type": "markdown",
      "id": "L83Dgggp_Ux5",
      "metadata": {
        "id": "L83Dgggp_Ux5"
      },
      "source": [
        "# Parallel Computing"
      ]
    },
    {
      "cell_type": "code",
      "execution_count": null,
      "id": "e2f2c823",
      "metadata": {
        "colab": {
          "base_uri": "https://localhost:8080/"
        },
        "id": "e2f2c823",
        "outputId": "8da089f3-d445-4d9d-cc0e-798faa35fcad"
      },
      "outputs": [
        {
          "name": "stdout",
          "output_type": "stream",
          "text": [
            "Time taken: 7.49 seconds\n"
          ]
        }
      ],
      "source": [
        "#MULTI_PROCESSING\n",
        "from concurrent.futures import ProcessPoolExecutor\n",
        "\n",
        "def train_logistic(_):\n",
        "    model_multiprocessing = RandomForestClassifier(random_state=42,n_jobs=-1)\n",
        "    model_multiprocessing.fit(x_init_train, y_init_train)\n",
        "    return model_multiprocessing\n",
        "\n",
        "if __name__ == \"__main__\":\n",
        "    start = time.time()\n",
        "    with ProcessPoolExecutor(max_workers=4) as executor:\n",
        "        results = list(executor.map(train_logistic, range(4)))\n",
        "    end = time.time()\n",
        "    print(f\"Time taken: {end - start:.2f} seconds\")\n"
      ]
    },
    {
      "cell_type": "code",
      "execution_count": null,
      "id": "6b94ba24",
      "metadata": {
        "colab": {
          "base_uri": "https://localhost:8080/"
        },
        "id": "6b94ba24",
        "outputId": "aff70420-1658-432a-975d-d69017639711"
      },
      "outputs": [
        {
          "name": "stdout",
          "output_type": "stream",
          "text": [
            "Time taken: 3.61 seconds\n"
          ]
        }
      ],
      "source": [
        "#MULTI_THREADING\n",
        "\n",
        "from concurrent.futures import ThreadPoolExecutor\n",
        "\n",
        "\n",
        "def train_model(_):\n",
        "    model_multithreading = RandomForestClassifier(random_state=42,n_jobs=1)\n",
        "    model_multithreading.fit(x_init_train, y_init_train)\n",
        "start = time.time()\n",
        "with ThreadPoolExecutor(max_workers=4) as executor:\n",
        "    list(executor.map(train_model, range(4)))\n",
        "end = time.time()\n",
        "\n",
        "print(f\"Time taken: {end - start:.2f} seconds\")\n"
      ]
    },
    {
      "cell_type": "markdown",
      "id": "5HraOtaO7jqa",
      "metadata": {
        "id": "5HraOtaO7jqa"
      },
      "source": [
        "Out of the parallel computing Mutli-threading seems to work better"
      ]
    },
    {
      "cell_type": "markdown",
      "id": "8k3qVdww_mRq",
      "metadata": {
        "id": "8k3qVdww_mRq"
      },
      "source": [
        "## Distributed Systems"
      ]
    },
    {
      "cell_type": "code",
      "execution_count": null,
      "id": "PucRbaDL7ihw",
      "metadata": {
        "colab": {
          "base_uri": "https://localhost:8080/"
        },
        "id": "PucRbaDL7ihw",
        "outputId": "1f821e3d-1f52-444d-a6af-b3e989556fcc"
      },
      "outputs": [
        {
          "name": "stdout",
          "output_type": "stream",
          "text": [
            "Requirement already satisfied: dask in /usr/local/lib/python3.11/dist-packages (2024.12.1)\n",
            "Requirement already satisfied: click>=8.1 in /usr/local/lib/python3.11/dist-packages (from dask) (8.1.8)\n",
            "Requirement already satisfied: cloudpickle>=3.0.0 in /usr/local/lib/python3.11/dist-packages (from dask) (3.1.1)\n",
            "Requirement already satisfied: fsspec>=2021.09.0 in /usr/local/lib/python3.11/dist-packages (from dask) (2025.3.2)\n",
            "Requirement already satisfied: packaging>=20.0 in /usr/local/lib/python3.11/dist-packages (from dask) (24.2)\n",
            "Requirement already satisfied: partd>=1.4.0 in /usr/local/lib/python3.11/dist-packages (from dask) (1.4.2)\n",
            "Requirement already satisfied: pyyaml>=5.3.1 in /usr/local/lib/python3.11/dist-packages (from dask) (6.0.2)\n",
            "Requirement already satisfied: toolz>=0.10.0 in /usr/local/lib/python3.11/dist-packages (from dask) (0.12.1)\n",
            "Requirement already satisfied: importlib_metadata>=4.13.0 in /usr/local/lib/python3.11/dist-packages (from dask) (8.7.0)\n",
            "Requirement already satisfied: zipp>=3.20 in /usr/local/lib/python3.11/dist-packages (from importlib_metadata>=4.13.0->dask) (3.21.0)\n",
            "Requirement already satisfied: locket in /usr/local/lib/python3.11/dist-packages (from partd>=1.4.0->dask) (1.0.0)\n"
          ]
        }
      ],
      "source": [
        "!pip install dask"
      ]
    },
    {
      "cell_type": "code",
      "execution_count": null,
      "id": "5j_zI-JEEEhg",
      "metadata": {
        "colab": {
          "base_uri": "https://localhost:8080/"
        },
        "id": "5j_zI-JEEEhg",
        "outputId": "64914cb8-f87c-4590-9cd8-d3b74a221eff"
      },
      "outputs": [
        {
          "name": "stdout",
          "output_type": "stream",
          "text": [
            "Time taken: 4.64 seconds\n"
          ]
        }
      ],
      "source": [
        "from dask import delayed, compute\n",
        "\n",
        "@delayed\n",
        "def train_model(_):\n",
        "    model_dask = RandomForestClassifier(random_state=42,n_jobs=1)\n",
        "    model_dask.fit(x_init_train, y_init_train)\n",
        "\n",
        "start = time.time()\n",
        "tasks = [train_model(i) for i in range(4)]\n",
        "compute(*tasks, scheduler=\"threads\")\n",
        "end = time.time()\n",
        "\n",
        "print(f\"Time taken: {end - start:.2f} seconds\")\n"
      ]
    },
    {
      "cell_type": "code",
      "execution_count": null,
      "id": "xWqG5bnKEFs7",
      "metadata": {
        "colab": {
          "base_uri": "https://localhost:8080/"
        },
        "id": "xWqG5bnKEFs7",
        "outputId": "b93fd343-a681-4f6b-bcb0-0cdec49e8af6"
      },
      "outputs": [
        {
          "name": "stdout",
          "output_type": "stream",
          "text": [
            "Time taken: 9.41 seconds\n"
          ]
        }
      ],
      "source": [
        "from pyspark.sql import SparkSession\n",
        "from pyspark import SparkContext\n",
        "from sklearn.linear_model import LogisticRegression\n",
        "from sklearn.datasets import make_classification\n",
        "from sklearn.model_selection import train_test_split\n",
        "import time\n",
        "\n",
        "spark = SparkSession.builder.appName(\"ParallelModelTraining\").getOrCreate()\n",
        "sc = spark.sparkContext\n",
        "\n",
        "x_broadcast = sc.broadcast(x_init_train)\n",
        "y_broadcast = sc.broadcast(y_init_train)\n",
        "\n",
        "def train_model(_):\n",
        "    model_spark = RandomForestClassifier(random_state=42, n_jobs=1)\n",
        "    model_spark.fit(x_broadcast.value, y_broadcast.value)\n",
        "    return f\"Model {_} trained\"\n",
        "\n",
        "start = time.time()\n",
        "results = sc.parallelize(range(4)).map(train_model).collect()\n",
        "end = time.time()\n",
        "\n",
        "print(f\"Time taken: {end - start:.2f} seconds\")\n",
        "\n",
        "spark.stop()\n"
      ]
    },
    {
      "cell_type": "markdown",
      "id": "3b790973",
      "metadata": {},
      "source": [
        "MPI done is separate py file"
      ]
    },
    {
      "cell_type": "code",
      "execution_count": null,
      "id": "68b9ac08",
      "metadata": {},
      "outputs": [],
      "source": [
        "# from mpi4py import MPI\n",
        "# from sklearn.ensemble import RandomForestClassifier\n",
        "# from sklearn.metrics import accuracy_score\n",
        "# from sklearn.preprocessing import StandardScaler\n",
        "# import time\n",
        "# import pandas as pd\n",
        "# from imblearn.over_sampling import SMOTE\n",
        "\n",
        "\n",
        "# comm = MPI.COMM_WORLD\n",
        "# rank = comm.Get_rank()\n",
        "# size = comm.Get_size()\n",
        "\n",
        "# df = pd.read_csv('pdc_dataset_with_target.csv')\n",
        "# # Removed Nan value rows because they were giving better results then filling them with mean\n",
        "# nan_rows = df.isnull().any(axis=1).sum()\n",
        "# total_rows = len(df)\n",
        "# print(f\"Rows with NaN: {nan_rows} out of {total_rows} ({nan_rows/total_rows:.2%})\")\n",
        "# df = df.dropna()\n",
        "# df = pd.get_dummies(df, drop_first=True)\n",
        "# features = df.drop('target', axis=1)\n",
        "# scaler = StandardScaler()\n",
        "# features_scaled = pd.DataFrame(scaler.fit_transform(features), columns=features.columns)\n",
        "# df_scaled = features_scaled.copy()\n",
        "# df_scaled['target'] = df['target'].values\n",
        "# # balancing the dataset because it was a bit imbalanced\n",
        "# smote = SMOTE(random_state=42)\n",
        "# X = df_scaled.drop('target', axis=1)\n",
        "# y = df_scaled['target']\n",
        "# X_resampled, y_resampled = smote.fit_resample(X, y)\n",
        "# X_resampled.shape, y_resampled.shape\n",
        "# y_resampled.value_counts(normalize=True)\n",
        "# df_scaled = pd.concat([X_resampled, y_resampled], axis=1)\n",
        "# df_scaled['target'].value_counts(normalize=True)\n",
        "# start = time.time()\n",
        "# from sklearn.model_selection import train_test_split\n",
        "\n",
        "# # Separate features and target\n",
        "# X = df_scaled.drop('target', axis=1)\n",
        "# y = df_scaled['target']\n",
        "\n",
        "# # Step 1: Take 15% of the data as initial set\n",
        "# X_remaining, x_init, y_remaining, y_init = train_test_split(\n",
        "#     X, y, test_size=0.15, random_state=42)\n",
        "\n",
        "# # Step 2: Split the remaining 85% into train and test sets\n",
        "# X_train, X_test, y_train, y_test = train_test_split(\n",
        "#     X_remaining, y_remaining, test_size=0.2, random_state=42)\n",
        "\n",
        "# # Each rank trains a model (can use rank as seed)\n",
        "# model = RandomForestClassifier(n_estimators=100, random_state=rank, n_jobs=1)\n",
        "# model.fit(x_init, y_init)\n",
        "# acc = accuracy_score(y_init, model.predict(x_init))\n",
        "\n",
        "# print(f\"[Process {rank}] Accuracy: {acc:.4f}\")\n",
        "\n",
        "# end = time.time()\n",
        "# if rank == 0:\n",
        "#     print(f\"Total Time taken: {end - start:.2f} seconds\")\n"
      ]
    },
    {
      "cell_type": "markdown",
      "id": "dba7e8ef",
      "metadata": {},
      "source": [
        "MPI code results from the py file\n",
        "- Total Time taken: 6.85 seconds"
      ]
    },
    {
      "cell_type": "markdown",
      "id": "3OpoJ0Y_GoSh",
      "metadata": {
        "id": "3OpoJ0Y_GoSh"
      },
      "source": [
        "Dask performed significantly better"
      ]
    },
    {
      "cell_type": "markdown",
      "id": "RN_5pK0YG66E",
      "metadata": {
        "id": "RN_5pK0YG66E"
      },
      "source": [
        "## GPU acceleration"
      ]
    },
    {
      "cell_type": "code",
      "execution_count": null,
      "id": "tUQFpbfiG436",
      "metadata": {
        "colab": {
          "base_uri": "https://localhost:8080/"
        },
        "id": "tUQFpbfiG436",
        "outputId": "220164cf-955a-401b-b5f4-92f6499df9a1"
      },
      "outputs": [
        {
          "name": "stdout",
          "output_type": "stream",
          "text": [
            "Training time: 0.95 seconds\n",
            "Training accuracy: 1.0000\n"
          ]
        }
      ],
      "source": [
        "import tensorflow as tf\n",
        "from sklearn.ensemble import RandomForestClassifier\n",
        "from sklearn.metrics import accuracy_score\n",
        "import time\n",
        "\n",
        "x_tensor = tf.convert_to_tensor(x_init_train, dtype=tf.float32)\n",
        "y_tensor = tf.convert_to_tensor(y_init_train, dtype=tf.int32)\n",
        "\n",
        "x_np = x_tensor.numpy()\n",
        "y_np = y_tensor.numpy()\n",
        "\n",
        "rf_model = RandomForestClassifier(n_estimators=100, random_state=42)\n",
        "\n",
        "start = time.time()\n",
        "rf_model.fit(x_np, y_np)\n",
        "end = time.time()\n",
        "\n",
        "print(f\"Training time: {end - start:.2f} seconds\")\n",
        "\n"
      ]
    },
    {
      "cell_type": "code",
      "execution_count": null,
      "id": "h-XKYLRuG5G1",
      "metadata": {
        "colab": {
          "base_uri": "https://localhost:8080/"
        },
        "id": "h-XKYLRuG5G1",
        "outputId": "dd3b3d69-e22d-4bff-a268-41f375908155"
      },
      "outputs": [
        {
          "name": "stdout",
          "output_type": "stream",
          "text": [
            "Time taken (Random Forest with Torch-like data flow): 0.92 seconds\n",
            "Training accuracy: 1.0000\n"
          ]
        }
      ],
      "source": [
        "import torch\n",
        "from sklearn.ensemble import RandomForestClassifier\n",
        "from sklearn.metrics import accuracy_score\n",
        "import time\n",
        "\n",
        "device = torch.device(\"cuda\" if torch.cuda.is_available() else \"cpu\")\n",
        "X_tensor = torch.tensor(x_init_train.to_numpy(), dtype=torch.float32).to(device)\n",
        "y_tensor = torch.tensor(y_init_train.to_numpy(), dtype=torch.float32).view(-1, 1).to(device)\n",
        "\n",
        "X_np = X_tensor.cpu().numpy()\n",
        "y_np = y_tensor.cpu().numpy().ravel()\n",
        "\n",
        "rf_model = RandomForestClassifier(n_estimators=100, random_state=42)\n",
        "\n",
        "start = time.time()\n",
        "rf_model.fit(X_np, y_np)\n",
        "end = time.time()\n",
        "\n",
        "print(f\"Time taken (Random Forest with Torch-like data flow): {end - start:.2f} seconds\")"
      ]
    },
    {
      "cell_type": "code",
      "execution_count": null,
      "id": "Zl5TSjSdG5Kt",
      "metadata": {
        "colab": {
          "base_uri": "https://localhost:8080/"
        },
        "id": "Zl5TSjSdG5Kt",
        "outputId": "09fe6538-9cec-469c-c19e-7aa8f95029b7"
      },
      "outputs": [
        {
          "name": "stdout",
          "output_type": "stream",
          "text": [
            "CUDA-like Flow (Random Forest): Accuracy = 1.0000\n",
            "Time taken (CPU Random Forest after CuPy prep): 2.21 seconds\n"
          ]
        }
      ],
      "source": [
        "import cupy as cp\n",
        "import numpy as np\n",
        "import time\n",
        "from sklearn.ensemble import RandomForestClassifier\n",
        "from sklearn.metrics import accuracy_score\n",
        "\n",
        "X = x_init_train.to_numpy()\n",
        "y = y_init_train.to_numpy().reshape(-1, 1)\n",
        "\n",
        "X_gpu = cp.asarray(X)\n",
        "y_gpu = cp.asarray(y)\n",
        "\n",
        "X_cpu = cp.asnumpy(X_gpu)\n",
        "y_cpu = cp.asnumpy(y_gpu).ravel()\n",
        "\n",
        "rf_model = RandomForestClassifier(n_estimators=100, random_state=42)\n",
        "\n",
        "start = time.time()\n",
        "rf_model.fit(X_cpu, y_cpu)\n",
        "end = time.time()\n",
        "\n",
        "print(f\"CUDA-like Flow (Random Forest): Accuracy = {acc:.4f}\")\n"
      ]
    },
    {
      "cell_type": "code",
      "execution_count": null,
      "id": "7Dn5kgMQG5SA",
      "metadata": {
        "id": "7Dn5kgMQG5SA"
      },
      "outputs": [],
      "source": [
        "#stop here"
      ]
    },
    {
      "cell_type": "markdown",
      "id": "75qYvR5EIAQR",
      "metadata": {
        "id": "75qYvR5EIAQR"
      },
      "source": [
        "so out of these torch performed the best"
      ]
    },
    {
      "cell_type": "markdown",
      "id": "rORlJQh1IAfD",
      "metadata": {
        "id": "rORlJQh1IAfD"
      },
      "source": [
        "## Hybrid Models"
      ]
    },
    {
      "cell_type": "code",
      "execution_count": null,
      "id": "eJxRgal_b-ac",
      "metadata": {
        "colab": {
          "base_uri": "https://localhost:8080/"
        },
        "id": "eJxRgal_b-ac",
        "outputId": "9311ce7b-2e18-49d7-84f7-db76b34e0aca"
      },
      "outputs": [
        {
          "name": "stderr",
          "output_type": "stream",
          "text": [
            "INFO:distributed.http.proxy:To route to workers diagnostics web server please install jupyter-server-proxy: python -m pip install jupyter-server-proxy\n",
            "INFO:distributed.scheduler:State start\n",
            "INFO:distributed.scheduler:  Scheduler at: inproc://172.28.0.12/10313/1\n",
            "INFO:distributed.scheduler:  dashboard at:  http://172.28.0.12:8787/status\n",
            "INFO:distributed.scheduler:Registering Worker plugin shuffle\n",
            "INFO:distributed.worker:      Start worker at: inproc://172.28.0.12/10313/4\n",
            "INFO:distributed.worker:         Listening to:          inproc172.28.0.12\n",
            "INFO:distributed.worker:          Worker name:                          0\n",
            "INFO:distributed.worker:         dashboard at:          172.28.0.12:38119\n",
            "INFO:distributed.worker:Waiting to connect to: inproc://172.28.0.12/10313/1\n",
            "INFO:distributed.worker:-------------------------------------------------\n",
            "INFO:distributed.worker:              Threads:                          2\n",
            "INFO:distributed.worker:               Memory:                  12.67 GiB\n",
            "INFO:distributed.worker:      Local Directory: /tmp/dask-scratch-space/worker-wgw84lzj\n",
            "INFO:distributed.worker:-------------------------------------------------\n",
            "INFO:distributed.scheduler:Register worker addr: inproc://172.28.0.12/10313/4 name: 0\n",
            "INFO:distributed.scheduler:Starting worker compute stream, inproc://172.28.0.12/10313/4\n",
            "INFO:distributed.core:Starting established connection to inproc://172.28.0.12/10313/5\n",
            "INFO:distributed.worker:Starting Worker plugin shuffle\n",
            "INFO:distributed.worker:        Registered to: inproc://172.28.0.12/10313/1\n",
            "INFO:distributed.worker:-------------------------------------------------\n",
            "INFO:distributed.core:Starting established connection to inproc://172.28.0.12/10313/1\n",
            "INFO:distributed.scheduler:Receive client connection: Client-39c6c418-28eb-11f0-a849-0242ac1c000c\n",
            "INFO:distributed.core:Starting established connection to inproc://172.28.0.12/10313/6\n",
            "INFO:distributed.scheduler:Remove client Client-39c6c418-28eb-11f0-a849-0242ac1c000c\n",
            "INFO:distributed.core:Received 'close-stream' from inproc://172.28.0.12/10313/6; closing.\n",
            "INFO:distributed.scheduler:Remove client Client-39c6c418-28eb-11f0-a849-0242ac1c000c\n",
            "INFO:distributed.scheduler:Close client connection: Client-39c6c418-28eb-11f0-a849-0242ac1c000c\n",
            "INFO:distributed.scheduler:Retire worker addresses (stimulus_id='retire-workers-1746365122.6977963') [0]\n",
            "INFO:distributed.worker:Stopping worker at inproc://172.28.0.12/10313/4. Reason: worker-close\n",
            "INFO:distributed.worker:Removing Worker plugin shuffle\n",
            "INFO:distributed.core:Received 'close-stream' from inproc://172.28.0.12/10313/5; closing.\n",
            "INFO:distributed.scheduler:Remove worker addr: inproc://172.28.0.12/10313/4 name: 0 (stimulus_id='handle-worker-cleanup-1746365122.7103934')\n",
            "INFO:distributed.scheduler:Lost all workers\n",
            "INFO:distributed.core:Connection to inproc://172.28.0.12/10313/1 has been closed.\n",
            "INFO:distributed.scheduler:Closing scheduler. Reason: unknown\n",
            "INFO:distributed.scheduler:Scheduler closing all comms\n"
          ]
        },
        {
          "name": "stdout",
          "output_type": "stream",
          "text": [
            "Training time with Dask backend: 1.45 seconds\n"
          ]
        }
      ],
      "source": [
        "#DASK + MULTITHREADING #Run on cpu\n",
        "from sklearn.ensemble import RandomForestClassifier\n",
        "from sklearn.model_selection import train_test_split\n",
        "from sklearn.metrics import accuracy_score\n",
        "\n",
        "from dask.distributed import Client\n",
        "from joblib import parallel_backend\n",
        "import time\n",
        "\n",
        "client = Client(processes=False)\n",
        "\n",
        "start = time.time()\n",
        "with parallel_backend('dask'):\n",
        "    clf = RandomForestClassifier(n_estimators=100, max_depth=10, n_jobs=-1, random_state=42)\n",
        "    clf.fit(x_init_train, y_init_train)\n",
        "end = time.time()\n",
        "\n",
        "print(f\"Training time with Dask backend: {end - start:.2f} seconds\")\n",
        "\n",
        "client.close()\n"
      ]
    },
    {
      "cell_type": "code",
      "execution_count": null,
      "id": "MiMbDt8Qb-os",
      "metadata": {
        "colab": {
          "base_uri": "https://localhost:8080/"
        },
        "id": "MiMbDt8Qb-os",
        "outputId": "5a42ebcc-9f0b-435a-d34a-09be3cd61c95"
      },
      "outputs": [
        {
          "name": "stdout",
          "output_type": "stream",
          "text": [
            "Time taken (Multithreaded-style RF training): 4.25 seconds\n"
          ]
        }
      ],
      "source": [
        "#MULTITHREADING + TORCH #run on gpu\n",
        "import threading\n",
        "\n",
        "device = torch.device(\"cuda\" if torch.cuda.is_available() else \"cpu\")\n",
        "X_tensor = torch.tensor(x_init_train.to_numpy(), dtype=torch.float32).to(device)\n",
        "y_tensor = torch.tensor(y_init_train.to_numpy(), dtype=torch.float32).view(-1, 1).to(device)\n",
        "\n",
        "X_np = X_tensor.cpu().numpy()\n",
        "y_np = y_tensor.cpu().numpy().ravel()\n",
        "\n",
        "rf_model = RandomForestClassifier(n_estimators=100, random_state=42)\n",
        "\n",
        "lock = threading.Lock()\n",
        "\n",
        "def train_rf():\n",
        "    with lock:\n",
        "        rf_model.fit(X_np, y_np)\n",
        "\n",
        "start = time.time()\n",
        "\n",
        "threads = []\n",
        "num_epochs = 4\n",
        "for _ in range(num_epochs):\n",
        "    t = threading.Thread(target=train_rf)\n",
        "    threads.append(t)\n",
        "    t.start()\n",
        "\n",
        "for t in threads:\n",
        "    t.join()\n",
        "\n",
        "end = time.time()\n",
        "\n",
        "print(f\"Time taken (Multithreaded-style RF training): {end - start:.2f} seconds\")\n"
      ]
    },
    {
      "cell_type": "code",
      "execution_count": null,
      "id": "nRK5Tgoib-tB",
      "metadata": {
        "colab": {
          "base_uri": "https://localhost:8080/"
        },
        "id": "nRK5Tgoib-tB",
        "outputId": "3293b721-2023-4633-ee52-56638fff6367"
      },
      "outputs": [
        {
          "name": "stderr",
          "output_type": "stream",
          "text": [
            "INFO:distributed.http.proxy:To route to workers diagnostics web server please install jupyter-server-proxy: python -m pip install jupyter-server-proxy\n",
            "INFO:distributed.scheduler:State start\n",
            "INFO:distributed.scheduler:  Scheduler at:     tcp://127.0.0.1:39671\n",
            "INFO:distributed.scheduler:  dashboard at:  http://127.0.0.1:8787/status\n",
            "INFO:distributed.scheduler:Registering Worker plugin shuffle\n",
            "INFO:distributed.nanny:        Start Nanny at: 'tcp://127.0.0.1:35351'\n",
            "INFO:distributed.nanny:        Start Nanny at: 'tcp://127.0.0.1:36673'\n",
            "INFO:distributed.scheduler:Register worker addr: tcp://127.0.0.1:45927 name: 1\n",
            "INFO:distributed.scheduler:Starting worker compute stream, tcp://127.0.0.1:45927\n",
            "INFO:distributed.core:Starting established connection to tcp://127.0.0.1:53770\n",
            "INFO:distributed.scheduler:Register worker addr: tcp://127.0.0.1:32877 name: 0\n",
            "INFO:distributed.scheduler:Starting worker compute stream, tcp://127.0.0.1:32877\n",
            "INFO:distributed.core:Starting established connection to tcp://127.0.0.1:53754\n",
            "INFO:distributed.scheduler:Receive client connection: Client-e0d30bbe-28ec-11f0-8434-0242ac1c000c\n",
            "INFO:distributed.core:Starting established connection to tcp://127.0.0.1:35828\n"
          ]
        },
        {
          "name": "stdout",
          "output_type": "stream",
          "text": [
            "Model with 50 estimators trained.\n",
            "Model with 100 estimators trained.\n",
            "Model with 150 estimators trained.\n"
          ]
        },
        {
          "name": "stderr",
          "output_type": "stream",
          "text": [
            "INFO:distributed.scheduler:Remove client Client-e0d30bbe-28ec-11f0-8434-0242ac1c000c\n",
            "INFO:distributed.core:Received 'close-stream' from tcp://127.0.0.1:35828; closing.\n",
            "INFO:distributed.scheduler:Remove client Client-e0d30bbe-28ec-11f0-8434-0242ac1c000c\n",
            "INFO:distributed.scheduler:Close client connection: Client-e0d30bbe-28ec-11f0-8434-0242ac1c000c\n",
            "INFO:distributed.scheduler:Retire worker addresses (stimulus_id='retire-workers-1746365847.6017401') (0, 1)\n",
            "INFO:distributed.nanny:Closing Nanny at 'tcp://127.0.0.1:35351'. Reason: nanny-close\n",
            "INFO:distributed.nanny:Nanny asking worker to close. Reason: nanny-close\n",
            "INFO:distributed.nanny:Closing Nanny at 'tcp://127.0.0.1:36673'. Reason: nanny-close\n",
            "INFO:distributed.nanny:Nanny asking worker to close. Reason: nanny-close\n",
            "INFO:distributed.core:Received 'close-stream' from tcp://127.0.0.1:53754; closing.\n",
            "INFO:distributed.scheduler:Remove worker addr: tcp://127.0.0.1:32877 name: 0 (stimulus_id='handle-worker-cleanup-1746365847.6193233')\n",
            "INFO:distributed.core:Received 'close-stream' from tcp://127.0.0.1:53770; closing.\n",
            "INFO:distributed.scheduler:Remove worker addr: tcp://127.0.0.1:45927 name: 1 (stimulus_id='handle-worker-cleanup-1746365847.6281295')\n",
            "INFO:distributed.scheduler:Lost all workers\n"
          ]
        },
        {
          "name": "stdout",
          "output_type": "stream",
          "text": [
            "Model with 200 estimators trained.\n",
            "Time taken with Dask & Random Forest: 12.54 seconds\n"
          ]
        },
        {
          "name": "stderr",
          "output_type": "stream",
          "text": [
            "INFO:distributed.nanny:Nanny at 'tcp://127.0.0.1:36673' closed.\n",
            "INFO:distributed.nanny:Nanny at 'tcp://127.0.0.1:35351' closed.\n",
            "INFO:distributed.scheduler:Closing scheduler. Reason: unknown\n",
            "INFO:distributed.scheduler:Scheduler closing all comms\n"
          ]
        }
      ],
      "source": [
        "#torch + dask # run on gpu\n",
        "from sklearn.ensemble import RandomForestClassifier\n",
        "from dask.distributed import Client, as_completed\n",
        "import time\n",
        "\n",
        "client = Client()\n",
        "\n",
        "def train_random_forest(X_data, y_data, n_estimators=100, random_state=None):\n",
        "    print(f\"Training Random Forest with {n_estimators} estimators...\")\n",
        "    model = RandomForestClassifier(n_estimators=n_estimators, random_state=random_state)\n",
        "    model.fit(x_init_train,y_init_train)\n",
        "    return n_estimators, model\n",
        "\n",
        "start = time.time()\n",
        "\n",
        "n_estimators_list = [50, 100, 150, 200]  # Simulate \"epochs\" by varying model size\n",
        "futures = []\n",
        "for n in n_estimators_list:\n",
        "    future = client.submit(train_random_forest, x_init_train,y_init_train, n_estimators=n, random_state=42 + n, pure=False)\n",
        "    futures.append(future)\n",
        "\n",
        "# Gather and print results\n",
        "models = []\n",
        "for future in as_completed(futures):\n",
        "    n_estimators, model = future.result()\n",
        "    print(f\"Model with {n_estimators} estimators trained.\")\n",
        "    models.append((n_estimators, model))\n",
        "\n",
        "end = time.time()\n",
        "print(f\"Time taken with Dask & Random Forest: {end - start:.2f} seconds\")\n",
        "\n",
        "# Close Dask client\n",
        "client.close()\n"
      ]
    },
    {
      "cell_type": "code",
      "execution_count": null,
      "id": "ow17_zWlb-xe",
      "metadata": {
        "colab": {
          "base_uri": "https://localhost:8080/"
        },
        "id": "ow17_zWlb-xe",
        "outputId": "8eb651f8-0c52-4009-fdab-55bbc09f00a4"
      },
      "outputs": [
        {
          "name": "stderr",
          "output_type": "stream",
          "text": [
            "INFO:distributed.scheduler:State start\n",
            "INFO:distributed.scheduler:  Scheduler at:     tcp://127.0.0.1:40299\n",
            "INFO:distributed.scheduler:  dashboard at:  http://127.0.0.1:8787/status\n",
            "INFO:distributed.scheduler:Registering Worker plugin shuffle\n",
            "INFO:distributed.nanny:        Start Nanny at: 'tcp://127.0.0.1:37459'\n",
            "INFO:distributed.nanny:        Start Nanny at: 'tcp://127.0.0.1:38569'\n",
            "INFO:distributed.scheduler:Register worker addr: tcp://127.0.0.1:44863 name: 1\n",
            "INFO:distributed.scheduler:Starting worker compute stream, tcp://127.0.0.1:44863\n",
            "INFO:distributed.core:Starting established connection to tcp://127.0.0.1:41332\n",
            "INFO:distributed.scheduler:Register worker addr: tcp://127.0.0.1:37765 name: 0\n",
            "INFO:distributed.scheduler:Starting worker compute stream, tcp://127.0.0.1:37765\n",
            "INFO:distributed.core:Starting established connection to tcp://127.0.0.1:41322\n",
            "INFO:distributed.scheduler:Receive client connection: Client-f2211d21-28ec-11f0-8434-0242ac1c000c\n",
            "INFO:distributed.core:Starting established connection to tcp://127.0.0.1:41342\n",
            "INFO:distributed.scheduler:Remove client Client-f2211d21-28ec-11f0-8434-0242ac1c000c\n",
            "INFO:distributed.core:Received 'close-stream' from tcp://127.0.0.1:41342; closing.\n",
            "INFO:distributed.scheduler:Remove client Client-f2211d21-28ec-11f0-8434-0242ac1c000c\n",
            "INFO:distributed.scheduler:Close client connection: Client-f2211d21-28ec-11f0-8434-0242ac1c000c\n",
            "INFO:distributed.scheduler:Retire worker addresses (stimulus_id='retire-workers-1746365861.4683218') (0, 1)\n",
            "INFO:distributed.nanny:Closing Nanny at 'tcp://127.0.0.1:37459'. Reason: nanny-close\n",
            "INFO:distributed.nanny:Nanny asking worker to close. Reason: nanny-close\n",
            "INFO:distributed.nanny:Closing Nanny at 'tcp://127.0.0.1:38569'. Reason: nanny-close\n",
            "INFO:distributed.nanny:Nanny asking worker to close. Reason: nanny-close\n",
            "INFO:distributed.core:Received 'close-stream' from tcp://127.0.0.1:41322; closing.\n",
            "INFO:distributed.scheduler:Remove worker addr: tcp://127.0.0.1:37765 name: 0 (stimulus_id='handle-worker-cleanup-1746365861.4804435')\n",
            "INFO:distributed.core:Received 'close-stream' from tcp://127.0.0.1:41332; closing.\n",
            "INFO:distributed.scheduler:Remove worker addr: tcp://127.0.0.1:44863 name: 1 (stimulus_id='handle-worker-cleanup-1746365861.4854548')\n",
            "INFO:distributed.scheduler:Lost all workers\n",
            "INFO:distributed.batched:Batched Comm Closed <TCP (closed) Scheduler connection to worker local=tcp://127.0.0.1:40299 remote=tcp://127.0.0.1:41332>\n",
            "Traceback (most recent call last):\n",
            "  File \"/usr/local/lib/python3.11/dist-packages/distributed/batched.py\", line 115, in _background_send\n",
            "    nbytes = yield coro\n",
            "             ^^^^^^^^^^\n",
            "  File \"/usr/local/lib/python3.11/dist-packages/tornado/gen.py\", line 766, in run\n",
            "    value = future.result()\n",
            "            ^^^^^^^^^^^^^^^\n",
            "  File \"/usr/local/lib/python3.11/dist-packages/distributed/comm/tcp.py\", line 262, in write\n",
            "    raise CommClosedError()\n",
            "distributed.comm.core.CommClosedError\n"
          ]
        },
        {
          "name": "stdout",
          "output_type": "stream",
          "text": [
            "Time taken with Random Forest + Multithreading + Dask: 2.64 seconds\n",
            "Accuracies from different chunks: [1.0, 1.0, 1.0, 1.0]\n"
          ]
        },
        {
          "name": "stderr",
          "output_type": "stream",
          "text": [
            "INFO:distributed.nanny:Nanny at 'tcp://127.0.0.1:37459' closed.\n",
            "INFO:distributed.nanny:Nanny at 'tcp://127.0.0.1:38569' closed.\n",
            "INFO:distributed.scheduler:Closing scheduler. Reason: unknown\n",
            "INFO:distributed.scheduler:Scheduler closing all comms\n"
          ]
        }
      ],
      "source": [
        "#all 3 #run on gpu\n",
        "#Torch + MULTI THREADING + DASK\n",
        "import numpy as np\n",
        "import threading\n",
        "import time\n",
        "import pandas as pd\n",
        "from sklearn.ensemble import RandomForestClassifier\n",
        "from sklearn.metrics import accuracy_score\n",
        "import dask\n",
        "from dask.distributed import Client, as_completed\n",
        "import torch\n",
        "\n",
        "# Multithreaded data processing function\n",
        "def process_chunk_with_threads(chunk_data, chunk_labels, num_threads=4):\n",
        "    results = []\n",
        "\n",
        "    def process_chunk(start_idx, end_idx):\n",
        "        data_chunk = chunk_data[start_idx:end_idx]\n",
        "        label_chunk = chunk_labels[start_idx:end_idx]\n",
        "        result = data_chunk * 2\n",
        "        results.append((result, label_chunk))\n",
        "\n",
        "    chunk_size = len(chunk_data) // num_threads\n",
        "    threads = []\n",
        "\n",
        "    for i in range(num_threads):\n",
        "        start_idx = i * chunk_size\n",
        "        end_idx = (i + 1) * chunk_size if i != num_threads - 1 else len(chunk_data)\n",
        "        thread = threading.Thread(target=process_chunk, args=(start_idx, end_idx))\n",
        "        threads.append(thread)\n",
        "        thread.start()\n",
        "\n",
        "    for thread in threads:\n",
        "        thread.join()\n",
        "\n",
        "    processed_data = np.concatenate([r[0] for r in results])\n",
        "    processed_labels = np.concatenate([r[1] for r in results])\n",
        "\n",
        "    return processed_data, processed_labels\n",
        "\n",
        "def train_model_on_data(data, labels):\n",
        "    model = RandomForestClassifier(n_estimators=100, n_jobs=-1)\n",
        "    model.fit(data, labels)\n",
        "    preds = model.predict(data)\n",
        "    acc = accuracy_score(labels, preds)\n",
        "    return acc\n",
        "\n",
        "def dask_parallel_training():\n",
        "    chunk_size = len(x_init_train) // 4\n",
        "    futures = []\n",
        "\n",
        "    for i in range(4):\n",
        "        start_idx = i * chunk_size\n",
        "        end_idx = (i + 1) * chunk_size if i != 3 else len(x_init_train)\n",
        "\n",
        "        future = client.submit(\n",
        "            process_chunk_with_threads, x_init_train[start_idx:end_idx], y_init_train[start_idx:end_idx], 4\n",
        "        )\n",
        "        futures.append(future)\n",
        "\n",
        "    accuracies = []\n",
        "    for future in as_completed(futures):\n",
        "        data, labels = future.result()\n",
        "        acc = train_model_on_data(data, labels)\n",
        "        accuracies.append(acc)\n",
        "\n",
        "    return accuracies\n",
        "\n",
        "start = time.time()\n",
        "\n",
        "client = Client()\n",
        "\n",
        "accuracies = dask_parallel_training()\n",
        "\n",
        "end = time.time()\n",
        "\n",
        "print(f\"Time taken with Random Forest + Multithreading + Dask: {end - start:.2f} seconds\")\n",
        "print(f\"Accuracies from different chunks: {accuracies}\")\n",
        "\n",
        "client.close()\n"
      ]
    },
    {
      "cell_type": "markdown",
      "id": "utlNf6Ybf-Tp",
      "metadata": {
        "id": "utlNf6Ybf-Tp"
      },
      "source": []
    },
    {
      "cell_type": "markdown",
      "id": "nQuywwM_b_vK",
      "metadata": {
        "id": "nQuywwM_b_vK"
      },
      "source": [
        "#CONCLUSION"
      ]
    },
    {
      "cell_type": "markdown",
      "id": "cTdlHYITN-l1",
      "metadata": {
        "id": "cTdlHYITN-l1"
      },
      "source": [
        "### SO we can conclude that the best is TORCH"
      ]
    },
    {
      "cell_type": "markdown",
      "id": "7401a9ff",
      "metadata": {
        "id": "7401a9ff"
      },
      "source": [
        "### Series vs Parallel"
      ]
    },
    {
      "cell_type": "code",
      "execution_count": null,
      "id": "MJOTzncOOqMH",
      "metadata": {
        "colab": {
          "base_uri": "https://localhost:8080/"
        },
        "id": "MJOTzncOOqMH",
        "outputId": "9ca1f9ac-81a1-41e8-886e-2912d8b2e0d8"
      },
      "outputs": [
        {
          "name": "stdout",
          "output_type": "stream",
          "text": [
            "Accuracy: 0.63\n",
            "Time taken to execute: 17.45 seconds\n"
          ]
        }
      ],
      "source": [
        "#SERIAL run on cpu\n",
        "\n",
        "start_time = time.time()\n",
        "\n",
        "model = RandomForestClassifier(n_jobs=1, random_state=42)\n",
        "model.fit(X_train, y_train)\n",
        "\n",
        "y_pred = model.predict(X_test)\n",
        "accuracy = accuracy_score(y_test, y_pred)\n",
        "print(f\"Accuracy: {accuracy:.2f}\")\n",
        "\n",
        "end_time = time.time()\n",
        "serial_exec=end_time - start_time\n",
        "print(f\"Time taken to execute: {end_time - start_time:.2f} seconds\")"
      ]
    },
    {
      "cell_type": "code",
      "execution_count": 9,
      "id": "wOE9X7lWoE3I",
      "metadata": {
        "colab": {
          "base_uri": "https://localhost:8080/"
        },
        "id": "wOE9X7lWoE3I",
        "outputId": "21beef28-d238-41fd-c3c7-a4ac5019bb2d"
      },
      "outputs": [
        {
          "name": "stdout",
          "output_type": "stream",
          "text": [
            "Training Accuracy: 0.6335\n",
            "F1 Score: 0.6334\n",
            "Confusion Matrix:\n",
            "[[2239 1189]\n",
            " [1319 2097]]\n"
          ]
        }
      ],
      "source": [
        "from sklearn.metrics import accuracy_score, f1_score, confusion_matrix\n",
        "\n",
        "accuracy = accuracy_score(y_test, y_pred)\n",
        "f1 = f1_score(y_test, y_pred, average='weighted')\n",
        "cm = confusion_matrix(y_test, y_pred)\n",
        "\n",
        "print(f\"Training Accuracy: {accuracy:.4f}\")\n",
        "print(f\"F1 Score: {f1:.4f}\")\n",
        "print(\"Confusion Matrix:\")\n",
        "print(cm)\n"
      ]
    },
    {
      "cell_type": "code",
      "execution_count": null,
      "id": "msbHb7YQR-GQ",
      "metadata": {
        "colab": {
          "base_uri": "https://localhost:8080/"
        },
        "id": "msbHb7YQR-GQ",
        "outputId": "b9798d5c-fa34-4c25-ab09-7cac82548c43"
      },
      "outputs": [
        {
          "name": "stdout",
          "output_type": "stream",
          "text": [
            "Accuracy: 0.63\n",
            "Time taken to execute: 6.16 seconds\n"
          ]
        }
      ],
      "source": [
        "#SERIAL run on gpu\n",
        "\n",
        "start_time = time.time()\n",
        "\n",
        "model = RandomForestClassifier(n_jobs=1, random_state=42)\n",
        "model.fit(X_train, y_train)\n",
        "y_pred = model.predict(X_test)\n",
        "accuracy = accuracy_score(y_test, y_pred)\n",
        "print(f\"Accuracy: {accuracy:.2f}\")\n",
        "\n",
        "end_time = time.time()\n",
        "serial_exec=end_time - start_time\n",
        "print(f\"Time taken to execute: {end_time - start_time:.2f} seconds\")"
      ]
    },
    {
      "cell_type": "code",
      "execution_count": 11,
      "id": "aHqiWL2YoGKX",
      "metadata": {
        "colab": {
          "base_uri": "https://localhost:8080/"
        },
        "id": "aHqiWL2YoGKX",
        "outputId": "fda69061-0fba-4509-f95d-abf60fb56347"
      },
      "outputs": [
        {
          "name": "stdout",
          "output_type": "stream",
          "text": [
            "Training Accuracy: 0.6335\n",
            "F1 Score: 0.6334\n",
            "Confusion Matrix:\n",
            "[[2239 1189]\n",
            " [1319 2097]]\n"
          ]
        }
      ],
      "source": [
        "accuracy = accuracy_score(y_test, y_pred)\n",
        "f1 = f1_score(y_test, y_pred, average='weighted')\n",
        "cm = confusion_matrix(y_test, y_pred)\n",
        "\n",
        "print(f\"Training Accuracy: {accuracy:.4f}\")\n",
        "print(f\"F1 Score: {f1:.4f}\")\n",
        "print(\"Confusion Matrix:\")\n",
        "print(cm)\n"
      ]
    },
    {
      "cell_type": "code",
      "execution_count": null,
      "id": "FqRyMkw-QYaB",
      "metadata": {
        "colab": {
          "base_uri": "https://localhost:8080/"
        },
        "id": "FqRyMkw-QYaB",
        "outputId": "1c9720a2-9a1a-4784-bb45-2b3c93ec729f"
      },
      "outputs": [
        {
          "name": "stdout",
          "output_type": "stream",
          "text": [
            "Time taken (Random Forest with Torch-like data flow): 4.67 seconds\n",
            "Training accuracy: 0.6335\n"
          ]
        }
      ],
      "source": [
        "import torch\n",
        "from sklearn.ensemble import RandomForestClassifier\n",
        "from sklearn.metrics import accuracy_score\n",
        "import time\n",
        "\n",
        "device = torch.device(\"cuda\" if torch.cuda.is_available() else \"cpu\")\n",
        "X_tensor = torch.tensor(X_train.to_numpy(), dtype=torch.float32).to(device)\n",
        "y_tensor = torch.tensor(y_train.to_numpy(), dtype=torch.float32).view(-1, 1).to(device)\n",
        "\n",
        "X_testtensor = torch.tensor(X_test.to_numpy(), dtype=torch.float32).to(device)\n",
        "y_testtensor = torch.tensor(y_test.to_numpy(), dtype=torch.float32).view(-1, 1).to(device)\n",
        "\n",
        "X_np = X_tensor.cpu().numpy()\n",
        "y_np = y_tensor.cpu().numpy().ravel()\n",
        "\n",
        "X_testnp = X_testtensor.cpu().numpy()\n",
        "y_testnp = y_testtensor.cpu().numpy().ravel()\n",
        "model = RandomForestClassifier(n_estimators=100, random_state=42,n_jobs=-1)\n",
        "\n",
        "start = time.time()\n",
        "model.fit(X_np, y_np)\n",
        "end = time.time()\n",
        "\n",
        "y_pred = model.predict(X_testnp)\n",
        "accuracy = accuracy_score(y_testnp, y_pred)\n",
        "parallel_exec=end - start\n",
        "print(f\"Time taken (Random Forest with Torch-like data flow): {end - start:.2f} seconds\")\n",
        "print(f\"Training accuracy: {accuracy:.4f}\")\n"
      ]
    },
    {
      "cell_type": "code",
      "execution_count": 13,
      "id": "YNynEqjGn1eq",
      "metadata": {
        "colab": {
          "base_uri": "https://localhost:8080/"
        },
        "id": "YNynEqjGn1eq",
        "outputId": "8bfe0919-192d-49f1-d031-219f186d75a8"
      },
      "outputs": [
        {
          "name": "stdout",
          "output_type": "stream",
          "text": [
            "Training Accuracy: 0.6335\n",
            "F1 Score: 0.6334\n",
            "Confusion Matrix:\n",
            "[[2239 1189]\n",
            " [1319 2097]]\n"
          ]
        }
      ],
      "source": [
        "accuracy = accuracy_score(y_testnp, y_pred)\n",
        "f1 = f1_score(y_testnp, y_pred, average='weighted')\n",
        "cm = confusion_matrix(y_testnp, y_pred)\n",
        "\n",
        "print(f\"Training Accuracy: {accuracy:.4f}\")\n",
        "print(f\"F1 Score: {f1:.4f}\")\n",
        "print(\"Confusion Matrix:\")\n",
        "print(cm)\n"
      ]
    },
    {
      "cell_type": "code",
      "execution_count": 16,
      "id": "y-Fg_CKCv2ky",
      "metadata": {
        "id": "y-Fg_CKCv2ky"
      },
      "outputs": [],
      "source": [
        "#CPU vs. GPU"
      ]
    },
    {
      "cell_type": "code",
      "execution_count": null,
      "id": "6gHUGLzhZ-2M",
      "metadata": {
        "colab": {
          "base_uri": "https://localhost:8080/"
        },
        "id": "6gHUGLzhZ-2M",
        "outputId": "0ef16d5a-9d52-4457-e4fc-8cd9129aeabf"
      },
      "outputs": [
        {
          "name": "stdout",
          "output_type": "stream",
          "text": [
            "improvement: 64.70%\n"
          ]
        }
      ],
      "source": [
        "cpu_exec=17.45\n",
        "gpu_exec=6.16\n",
        "improv=((cpu_exec-gpu_exec)/cpu_exec)*100\n",
        "print(f\"improvement: {improv:.2f}%\")"
      ]
    },
    {
      "cell_type": "code",
      "execution_count": 17,
      "id": "937qLDQzuG7B",
      "metadata": {
        "colab": {
          "base_uri": "https://localhost:8080/",
          "height": 506
        },
        "id": "937qLDQzuG7B",
        "outputId": "8f5132fb-7e4b-4e72-89d7-d556209cdafa"
      },
      "outputs": [
        {
          "data": {
            "image/png": "[encoded data removed]",
            "text/plain": [
              "<Figure size 600x500 with 1 Axes>"
            ]
          },
          "metadata": {},
          "output_type": "display_data"
        }
      ],
      "source": [
        "import matplotlib.pyplot as plt\n",
        "\n",
        "cpu_exec = 17.45\n",
        "gpu_exec = 6.16\n",
        "improv = ((cpu_exec - gpu_exec) / cpu_exec) * 100\n",
        "\n",
        "labels = ['CPU Execution', 'GPU Execution']\n",
        "times = [cpu_exec, gpu_exec]\n",
        "colors = ['skyblue', 'lightgreen']\n",
        "\n",
        "plt.figure(figsize=(6, 5))\n",
        "bars = plt.bar(labels, times, color=colors)\n",
        "\n",
        "for bar in bars:\n",
        "    yval = bar.get_height()\n",
        "    plt.text(bar.get_x() + bar.get_width()/2, yval + 0.5, f'{yval:.2f}s', ha='center', fontsize=10)\n",
        "\n",
        "plt.title(f'Execution Time Comparison\\nImprovement: {improv:.2f}%', fontsize=14)\n",
        "plt.ylabel('Time (seconds)')\n",
        "plt.ylim(0, max(times) + 5)\n",
        "plt.grid(axis='y', linestyle='--', alpha=0.7)\n",
        "\n",
        "plt.tight_layout()\n",
        "plt.show()\n"
      ]
    },
    {
      "cell_type": "code",
      "execution_count": 14,
      "id": "Faf6lq4uuHzV",
      "metadata": {
        "id": "Faf6lq4uuHzV"
      },
      "outputs": [],
      "source": [
        "# parallel vs. serial"
      ]
    },
    {
      "cell_type": "code",
      "execution_count": null,
      "id": "eul2EQ3-Q9eI",
      "metadata": {
        "colab": {
          "base_uri": "https://localhost:8080/"
        },
        "id": "eul2EQ3-Q9eI",
        "outputId": "1183f1a4-becc-4193-a553-cf77ba1c8224"
      },
      "outputs": [
        {
          "name": "stdout",
          "output_type": "stream",
          "text": [
            "improvement: 73.24%\n"
          ]
        }
      ],
      "source": [
        "serial_exec=17.45\n",
        "parallel_exec=4.67\n",
        "improv=((serial_exec-parallel_exec)/serial_exec)*100\n",
        "print(f\"improvement: {improv:.2f}%\")"
      ]
    },
    {
      "cell_type": "code",
      "execution_count": 15,
      "id": "BcifcK42nZCi",
      "metadata": {
        "colab": {
          "base_uri": "https://localhost:8080/",
          "height": 506
        },
        "id": "BcifcK42nZCi",
        "outputId": "30525bb3-b0ab-424e-9908-3fc52459ba9e"
      },
      "outputs": [
        {
          "data": {
            "image/png": "[encoded data removed]",
            "text/plain": [
              "<Figure size 600x500 with 1 Axes>"
            ]
          },
          "metadata": {},
          "output_type": "display_data"
        }
      ],
      "source": [
        "import matplotlib.pyplot as plt\n",
        "\n",
        "serial_exec = 17.45\n",
        "parallel_exec = 4.67\n",
        "improv = ((serial_exec - parallel_exec) / serial_exec) * 100\n",
        "\n",
        "labels = ['Serial Execution', 'Parallel Execution']\n",
        "times = [serial_exec, parallel_exec]\n",
        "colors = ['salmon', 'mediumseagreen']\n",
        "\n",
        "plt.figure(figsize=(6, 5))\n",
        "bars = plt.bar(labels, times, color=colors)\n",
        "\n",
        "for bar in bars:\n",
        "    yval = bar.get_height()\n",
        "    plt.text(bar.get_x() + bar.get_width()/2, yval + 0.5, f'{yval:.2f}s', ha='center', fontsize=10)\n",
        "\n",
        "plt.title(f'Execution Time Comparison\\nImprovement: {improv:.2f}%', fontsize=14)\n",
        "plt.ylabel('Time (seconds)')\n",
        "plt.ylim(0, max(times) + 5)\n",
        "plt.grid(axis='y', linestyle='--', alpha=0.7)\n",
        "\n",
        "plt.tight_layout()\n",
        "plt.show()\n"
      ]
    },
    {
      "cell_type": "markdown",
      "id": "25ec11b8",
      "metadata": {},
      "source": [
        "## Alternative Implementation"
      ]
    },
    {
      "cell_type": "code",
      "execution_count": null,
      "id": "2oyJoh7InZPt",
      "metadata": {
        "id": "2oyJoh7InZPt"
      },
      "outputs": [],
      "source": [
        "import pandas as pd\n",
        "import numpy as np\n",
        "from sklearn.model_selection import train_test_split\n",
        "from sklearn.preprocessing import StandardScaler, LabelEncoder\n",
        "from sklearn.ensemble import RandomForestClassifier\n",
        "from sklearn.linear_model import LogisticRegression\n",
        "from sklearn.metrics import accuracy_score, confusion_matrix, f1_score\n",
        "import seaborn as sns\n",
        "from seaborn import heatmap\n",
        "import matplotlib.pyplot as plt\n",
        "import time"
      ]
    },
    {
      "cell_type": "code",
      "execution_count": null,
      "id": "ROI_XXjpnZTh",
      "metadata": {
        "id": "ROI_XXjpnZTh"
      },
      "outputs": [
        {
          "data": {
            "text/html": [
              "<div>\n",
              "<style scoped>\n",
              "    .dataframe tbody tr th:only-of-type {\n",
              "        vertical-align: middle;\n",
              "    }\n",
              "\n",
              "    .dataframe tbody tr th {\n",
              "        vertical-align: top;\n",
              "    }\n",
              "\n",
              "    .dataframe thead th {\n",
              "        text-align: right;\n",
              "    }\n",
              "</style>\n",
              "<table border=\"1\" class=\"dataframe\">\n",
              "  <thead>\n",
              "    <tr style=\"text-align: right;\">\n",
              "      <th></th>\n",
              "      <th>feature_1</th>\n",
              "      <th>feature_2</th>\n",
              "      <th>feature_3</th>\n",
              "      <th>feature_4</th>\n",
              "      <th>feature_5</th>\n",
              "      <th>feature_6</th>\n",
              "      <th>feature_7</th>\n",
              "      <th>target</th>\n",
              "    </tr>\n",
              "  </thead>\n",
              "  <tbody>\n",
              "    <tr>\n",
              "      <th>0</th>\n",
              "      <td>27.75</td>\n",
              "      <td>55.0</td>\n",
              "      <td>B</td>\n",
              "      <td>875.98</td>\n",
              "      <td>No</td>\n",
              "      <td>8</td>\n",
              "      <td>44.16</td>\n",
              "      <td>0</td>\n",
              "    </tr>\n",
              "    <tr>\n",
              "      <th>1</th>\n",
              "      <td>31.33</td>\n",
              "      <td>39.0</td>\n",
              "      <td>C</td>\n",
              "      <td>839.91</td>\n",
              "      <td>No</td>\n",
              "      <td>4</td>\n",
              "      <td>13.93</td>\n",
              "      <td>1</td>\n",
              "    </tr>\n",
              "    <tr>\n",
              "      <th>2</th>\n",
              "      <td>23.87</td>\n",
              "      <td>10.0</td>\n",
              "      <td>A</td>\n",
              "      <td>1364.70</td>\n",
              "      <td>Yes</td>\n",
              "      <td>4</td>\n",
              "      <td>15.16</td>\n",
              "      <td>0</td>\n",
              "    </tr>\n",
              "    <tr>\n",
              "      <th>3</th>\n",
              "      <td>35.64</td>\n",
              "      <td>34.0</td>\n",
              "      <td>C</td>\n",
              "      <td>1462.07</td>\n",
              "      <td>No</td>\n",
              "      <td>4</td>\n",
              "      <td>15.71</td>\n",
              "      <td>1</td>\n",
              "    </tr>\n",
              "    <tr>\n",
              "      <th>4</th>\n",
              "      <td>NaN</td>\n",
              "      <td>NaN</td>\n",
              "      <td>C</td>\n",
              "      <td>710.61</td>\n",
              "      <td>No</td>\n",
              "      <td>8</td>\n",
              "      <td>13.77</td>\n",
              "      <td>1</td>\n",
              "    </tr>\n",
              "  </tbody>\n",
              "</table>\n",
              "</div>"
            ],
            "text/plain": [
              "   feature_1  feature_2 feature_3  feature_4 feature_5  feature_6  feature_7  \\\n",
              "0      27.75       55.0         B     875.98        No          8      44.16   \n",
              "1      31.33       39.0         C     839.91        No          4      13.93   \n",
              "2      23.87       10.0         A    1364.70       Yes          4      15.16   \n",
              "3      35.64       34.0         C    1462.07        No          4      15.71   \n",
              "4        NaN        NaN         C     710.61        No          8      13.77   \n",
              "\n",
              "   target  \n",
              "0       0  \n",
              "1       1  \n",
              "2       0  \n",
              "3       1  \n",
              "4       1  "
            ]
          },
          "execution_count": 2,
          "metadata": {},
          "output_type": "execute_result"
        }
      ],
      "source": [
        "data = pd.read_csv('pdc_dataset_with_target.csv')\n",
        "data.head()"
      ]
    },
    {
      "cell_type": "code",
      "execution_count": 20,
      "id": "1e7f3e62",
      "metadata": {},
      "outputs": [
        {
          "data": {
            "text/html": [
              "<div>\n",
              "<style scoped>\n",
              "    .dataframe tbody tr th:only-of-type {\n",
              "        vertical-align: middle;\n",
              "    }\n",
              "\n",
              "    .dataframe tbody tr th {\n",
              "        vertical-align: top;\n",
              "    }\n",
              "\n",
              "    .dataframe thead th {\n",
              "        text-align: right;\n",
              "    }\n",
              "</style>\n",
              "<table border=\"1\" class=\"dataframe\">\n",
              "  <thead>\n",
              "    <tr style=\"text-align: right;\">\n",
              "      <th></th>\n",
              "      <th>feature_1</th>\n",
              "      <th>feature_2</th>\n",
              "      <th>feature_3</th>\n",
              "      <th>feature_4</th>\n",
              "      <th>feature_5</th>\n",
              "      <th>feature_6</th>\n",
              "      <th>feature_7</th>\n",
              "      <th>target</th>\n",
              "    </tr>\n",
              "  </thead>\n",
              "  <tbody>\n",
              "    <tr>\n",
              "      <th>0</th>\n",
              "      <td>27.750000</td>\n",
              "      <td>55.00000</td>\n",
              "      <td>1</td>\n",
              "      <td>875.98</td>\n",
              "      <td>0</td>\n",
              "      <td>8</td>\n",
              "      <td>44.160000</td>\n",
              "      <td>0</td>\n",
              "    </tr>\n",
              "    <tr>\n",
              "      <th>1</th>\n",
              "      <td>31.330000</td>\n",
              "      <td>39.00000</td>\n",
              "      <td>2</td>\n",
              "      <td>839.91</td>\n",
              "      <td>0</td>\n",
              "      <td>4</td>\n",
              "      <td>13.930000</td>\n",
              "      <td>1</td>\n",
              "    </tr>\n",
              "    <tr>\n",
              "      <th>2</th>\n",
              "      <td>23.870000</td>\n",
              "      <td>10.00000</td>\n",
              "      <td>0</td>\n",
              "      <td>1364.70</td>\n",
              "      <td>1</td>\n",
              "      <td>4</td>\n",
              "      <td>15.160000</td>\n",
              "      <td>0</td>\n",
              "    </tr>\n",
              "    <tr>\n",
              "      <th>3</th>\n",
              "      <td>35.640000</td>\n",
              "      <td>34.00000</td>\n",
              "      <td>2</td>\n",
              "      <td>1462.07</td>\n",
              "      <td>0</td>\n",
              "      <td>4</td>\n",
              "      <td>15.710000</td>\n",
              "      <td>1</td>\n",
              "    </tr>\n",
              "    <tr>\n",
              "      <th>4</th>\n",
              "      <td>29.990843</td>\n",
              "      <td>49.43656</td>\n",
              "      <td>2</td>\n",
              "      <td>710.61</td>\n",
              "      <td>0</td>\n",
              "      <td>8</td>\n",
              "      <td>13.770000</td>\n",
              "      <td>1</td>\n",
              "    </tr>\n",
              "    <tr>\n",
              "      <th>...</th>\n",
              "      <td>...</td>\n",
              "      <td>...</td>\n",
              "      <td>...</td>\n",
              "      <td>...</td>\n",
              "      <td>...</td>\n",
              "      <td>...</td>\n",
              "      <td>...</td>\n",
              "      <td>...</td>\n",
              "    </tr>\n",
              "    <tr>\n",
              "      <th>40995</th>\n",
              "      <td>31.370000</td>\n",
              "      <td>52.00000</td>\n",
              "      <td>0</td>\n",
              "      <td>1118.04</td>\n",
              "      <td>1</td>\n",
              "      <td>9</td>\n",
              "      <td>22.590000</td>\n",
              "      <td>1</td>\n",
              "    </tr>\n",
              "    <tr>\n",
              "      <th>40996</th>\n",
              "      <td>33.180000</td>\n",
              "      <td>98.00000</td>\n",
              "      <td>0</td>\n",
              "      <td>1001.55</td>\n",
              "      <td>0</td>\n",
              "      <td>3</td>\n",
              "      <td>41.250000</td>\n",
              "      <td>0</td>\n",
              "    </tr>\n",
              "    <tr>\n",
              "      <th>40997</th>\n",
              "      <td>24.770000</td>\n",
              "      <td>91.00000</td>\n",
              "      <td>1</td>\n",
              "      <td>1030.09</td>\n",
              "      <td>1</td>\n",
              "      <td>7</td>\n",
              "      <td>23.145819</td>\n",
              "      <td>0</td>\n",
              "    </tr>\n",
              "    <tr>\n",
              "      <th>40998</th>\n",
              "      <td>29.990843</td>\n",
              "      <td>90.00000</td>\n",
              "      <td>2</td>\n",
              "      <td>1335.11</td>\n",
              "      <td>1</td>\n",
              "      <td>8</td>\n",
              "      <td>0.800000</td>\n",
              "      <td>0</td>\n",
              "    </tr>\n",
              "    <tr>\n",
              "      <th>40999</th>\n",
              "      <td>23.160000</td>\n",
              "      <td>48.00000</td>\n",
              "      <td>1</td>\n",
              "      <td>916.39</td>\n",
              "      <td>1</td>\n",
              "      <td>2</td>\n",
              "      <td>4.650000</td>\n",
              "      <td>1</td>\n",
              "    </tr>\n",
              "  </tbody>\n",
              "</table>\n",
              "<p>41000 rows × 8 columns</p>\n",
              "</div>"
            ],
            "text/plain": [
              "       feature_1  feature_2  feature_3  feature_4  feature_5  feature_6  \\\n",
              "0      27.750000   55.00000          1     875.98          0          8   \n",
              "1      31.330000   39.00000          2     839.91          0          4   \n",
              "2      23.870000   10.00000          0    1364.70          1          4   \n",
              "3      35.640000   34.00000          2    1462.07          0          4   \n",
              "4      29.990843   49.43656          2     710.61          0          8   \n",
              "...          ...        ...        ...        ...        ...        ...   \n",
              "40995  31.370000   52.00000          0    1118.04          1          9   \n",
              "40996  33.180000   98.00000          0    1001.55          0          3   \n",
              "40997  24.770000   91.00000          1    1030.09          1          7   \n",
              "40998  29.990843   90.00000          2    1335.11          1          8   \n",
              "40999  23.160000   48.00000          1     916.39          1          2   \n",
              "\n",
              "       feature_7  target  \n",
              "0      44.160000       0  \n",
              "1      13.930000       1  \n",
              "2      15.160000       0  \n",
              "3      15.710000       1  \n",
              "4      13.770000       1  \n",
              "...          ...     ...  \n",
              "40995  22.590000       1  \n",
              "40996  41.250000       0  \n",
              "40997  23.145819       0  \n",
              "40998   0.800000       0  \n",
              "40999   4.650000       1  \n",
              "\n",
              "[41000 rows x 8 columns]"
            ]
          },
          "execution_count": 20,
          "metadata": {},
          "output_type": "execute_result"
        }
      ],
      "source": [
        "# Handle missing values\n",
        "data.fillna(data.mean(numeric_only=True), inplace=True)\n",
        "# Encode categorical variables\n",
        "label_encoders = {}\n",
        "for column in data.select_dtypes(include=['object']).columns:\n",
        "    le = LabelEncoder()\n",
        "    data[column] = le.fit_transform(data[column])\n",
        "    label_encoders[column] = le\n",
        "# Normalize features\n",
        "scaler = StandardScaler()\n",
        "X = data.drop('target', axis=1)\n",
        "y = data['target']\n",
        "X = scaler.fit_transform(X)\n",
        "data"
      ]
    },
    {
      "cell_type": "code",
      "execution_count": null,
      "id": "33652c13",
      "metadata": {},
      "outputs": [],
      "source": [
        "X_train, X_test, y_train, y_test = train_test_split(X, y, test_size=0.2, random_state=42)"
      ]
    },
    {
      "cell_type": "code",
      "execution_count": null,
      "id": "177c4b37",
      "metadata": {},
      "outputs": [
        {
          "name": "stdout",
          "output_type": "stream",
          "text": [
            "Training Time: 0.7884843349456787 seconds\n"
          ]
        }
      ],
      "source": [
        "start_time = time.time()\n",
        "model = RandomForestClassifier(n_jobs=-1)  \n",
        "model.fit(X_train, y_train)\n",
        "end_time = time.time()\n",
        "print(f'Training Time: {end_time - start_time} seconds')"
      ]
    },
    {
      "cell_type": "code",
      "execution_count": null,
      "id": "054cd3ee",
      "metadata": {},
      "outputs": [
        {
          "name": "stdout",
          "output_type": "stream",
          "text": [
            "Accuracy: 0.5879268292682926\n",
            "Confusion Matrix:\n",
            "[[4217  710]\n",
            " [2669  604]]\n",
            "F1 Score: 0.263352954000436\n"
          ]
        },
        {
          "data": {
            "image/png": "[encoded data removed]",
            "text/plain": [
              "<Figure size 640x480 with 2 Axes>"
            ]
          },
          "metadata": {},
          "output_type": "display_data"
        }
      ],
      "source": [
        "y_pred = model.predict(X_test)\n",
        "accuracy = accuracy_score(y_test, y_pred)\n",
        "conf_matrix = confusion_matrix(y_test, y_pred)\n",
        "f1 = f1_score(y_test, y_pred)\n",
        "print(f'Accuracy: {accuracy}')\n",
        "print(f'Confusion Matrix:\\n{conf_matrix}')\n",
        "sns.heatmap(conf_matrix, annot=True, fmt='d', cmap='Blues')\n",
        "print(f'F1 Score: {f1}')"
      ]
    },
    {
      "cell_type": "code",
      "execution_count": null,
      "id": "db6a2a48",
      "metadata": {},
      "outputs": [
        {
          "name": "stdout",
          "output_type": "stream",
          "text": [
            "Serial Training Time: 5.501893997192383 seconds\n",
            "Parallel Training Time: 0.7738311290740967 seconds\n",
            "Time Reduction: 85.94%\n",
            "Parallel Training Time: 0.7738311290740967 seconds\n",
            "Time Reduction: 85.94%\n",
            "Serial Accuracy: 0.5923170731707317\n",
            "Parallel Accuracy: 0.5897560975609756\n",
            "Serial Accuracy: 0.5923170731707317\n",
            "Parallel Accuracy: 0.5897560975609756\n"
          ]
        }
      ],
      "source": [
        "# Serial Processing\n",
        "start_time_serial = time.time()\n",
        "model_serial = RandomForestClassifier(n_jobs=1)  \n",
        "model_serial.fit(X_train, y_train)\n",
        "end_time_serial = time.time()\n",
        "serial_time = end_time_serial - start_time_serial\n",
        "print(f'Serial Training Time: {serial_time} seconds')\n",
        "# Parallel Processing\n",
        "start_time_parallel = time.time()\n",
        "model_parallel = RandomForestClassifier(n_jobs=-1)  \n",
        "model_parallel.fit(X_train, y_train)\n",
        "end_time_parallel = time.time()\n",
        "parallel_time = end_time_parallel - start_time_parallel\n",
        "print(f'Parallel Training Time: {parallel_time} seconds')\n",
        "# Compare Results\n",
        "print(f'Time Reduction: {((serial_time - parallel_time) / serial_time) * 100:.2f}%')\n",
        "# Evaluate both models\n",
        "y_pred_serial = model_serial.predict(X_test)\n",
        "y_pred_parallel = model_parallel.predict(X_test)\n",
        "accuracy_serial = accuracy_score(y_test, y_pred_serial)\n",
        "accuracy_parallel = accuracy_score(y_test, y_pred_parallel)\n",
        "print(f'Serial Accuracy: {accuracy_serial}')\n",
        "print(f'Parallel Accuracy: {accuracy_parallel}')"
      ]
    },
    {
      "cell_type": "code",
      "execution_count": 21,
      "id": "9d445a4d",
      "metadata": {},
      "outputs": [
        {
          "data": {
            "image/png": "[encoded data removed]",
            "text/plain": [
              "<Figure size 800x600 with 1 Axes>"
            ]
          },
          "metadata": {},
          "output_type": "display_data"
        }
      ],
      "source": [
        "labels = ['Serial Execution', 'Parallel Execution']\n",
        "times = [serial_time, parallel_time]\n",
        "colors = ['salmon', 'mediumseagreen']\n",
        "\n",
        "plt.figure(figsize=(8, 6))\n",
        "bars = plt.bar(labels, times, color=colors)\n",
        "\n",
        "for bar in bars:\n",
        "    yval = bar.get_height()\n",
        "    plt.text(bar.get_x() + bar.get_width()/2, yval + 0.5, f'{yval:.2f}s', ha='center', fontsize=10)\n",
        "\n",
        "plt.title(f'Execution Time Comparison', fontsize=14)\n",
        "plt.ylabel('Time (seconds)')\n",
        "plt.grid(axis='y', linestyle='--', alpha=0.7)\n",
        "\n",
        "plt.tight_layout()"
      ]
    },
    {
      "cell_type": "code",
      "execution_count": null,
      "id": "98c0c05f",
      "metadata": {},
      "outputs": [],
      "source": []
    }
  ],
  "metadata": {
    "colab": {
      "provenance": [],
      "toc_visible": true
    },
    "kernelspec": {
      "display_name": "base",
      "language": "python",
      "name": "python3"
    },
    "language_info": {
      "codemirror_mode": {
        "name": "ipython",
        "version": 3
      },
      "file_extension": ".py",
      "mimetype": "text/x-python",
      "name": "python",
      "nbconvert_exporter": "python",
      "pygments_lexer": "ipython3",
      "version": "3.11.11"
    }
  },
  "nbformat": 4,
  "nbformat_minor": 5
}
